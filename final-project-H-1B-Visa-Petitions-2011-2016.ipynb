{
 "cells": [
  {
   "cell_type": "markdown",
   "metadata": {},
   "source": [
    "# 0. Before the code"
   ]
  },
  {
   "cell_type": "markdown",
   "metadata": {},
   "source": [
    "## 0.1 Dataset Details"
   ]
  },
  {
   "cell_type": "markdown",
   "metadata": {},
   "source": [
    "H-1B Visa Petitions 2011-2016\n",
    "\n",
    "Content:\n",
    "  This dataset contains five year's worth of H-1B petition data, with approximately 3 million records overall. The columns in the dataset include case status, employer name, worksite coordinates, job title, prevailing wage, occupation code, and year filed.\n",
    "\n",
    "Columns:\n",
    "- CASE_STATUS -> The CASE_STATUS field denotes the status of the application after LCA processing. Certified applications are filed with USCIS for H-1B approval. CASE_STATUS: CERTIFIED does not mean the applicant got his/her H-1B visa approved, it just means that he/she is eligible to file an H-1B.     \n",
    "- EMPLOYER_NAME -> Name of the employer submitting labor condition application.\n",
    "- SOC_NAME -> Occupational name associated with the \n",
    "- JOB_TITLE -> Title of the job.\n",
    "- FULL_TIME_POSITIONY -> F = Full Time Position; N = Part Time Position.\n",
    "- PREVAILING_WAGE -> Prevailing Wage for the job being requested for temporary labor condition. The wage is listed at annual scale in USD. The prevailing wage for a job position is defined as the average wage paid to similarly employed workers in the requested occupation in the area of intended employment. The prevailing wage is based on the employer’s minimum requirements for the position.\n",
    "- YEAR -> Year in which the H-1B visa petition was filed.\n",
    "- lon -> Longitude\n",
    "- lat -> latitude\n"
   ]
  },
  {
   "cell_type": "markdown",
   "metadata": {},
   "source": [
    "## 0.2 Goals"
   ]
  },
  {
   "cell_type": "markdown",
   "metadata": {},
   "source": [
    "Analysis:\n",
    "- H1-B Petition per year\n",
    "- What are the top 10 jobs for H-1B applicants?\n",
    "- Which companies use H-1B the most ？\n",
    "- Wage distribution for H-1B applicants \n",
    "- Top 10 cities for H-1B visa holder\n",
    "\n",
    "Predictions:\n",
    "- Predict the case status of H1B applicants\n"
   ]
  },
  {
   "cell_type": "markdown",
   "metadata": {},
   "source": [
    "## 0.3 Contents"
   ]
  },
  {
   "cell_type": "markdown",
   "metadata": {},
   "source": [
    "```\n",
    "1. Load and pre-processing data\n",
    "    1.1 Import data\n",
    "    1.2 Sort the data by the year   \n",
    "    1.3 Review data and drop columns/rows\n",
    "    1.4 Data Impute\n",
    "2. Analysis\n",
    "    2.1 H1-B Petition per year\n",
    "    2.2 What are the top 10 jobs for H-1B applicants?\n",
    "    2.3 which companies use H-1B the most ？\n",
    "    2.4 wage distribution for H-1B applicants \n",
    "    2.5 Top 10 cities for H-1B visa holder\n",
    "3. H-1B Case Status prediction (Classifier)\n",
    "    3.1 Prepare for prediction \n",
    "        3.1.1 Keep Good Ratio for Target Column\n",
    "        3.1.2 Encoding categorical features\n",
    "        3.1.3 Split Target Columns\n",
    "        3.1.4 Standard Scaler\n",
    "        3.1.5 Split Train, validation\n",
    "        3.1.6 Feature Selection\n",
    "    3.2 Model Selection\n",
    "        3.2.1 Function definition\n",
    "        3.2.2 Random Forest Classifier\n",
    "            3.2.2.1 Random Forest Grid Search\n",
    "            3.2.2.2 Apply to Random Forest model\n",
    "            3.2.2.3 Random Forest Outcome\n",
    "        3.2.3 Gradient Boosting Classifier\n",
    "            3.2.3.1 Gradient Boosting Grid Search\n",
    "            3.2.3.2 Apply to Gradient Boosting model\n",
    "            3.2.3.3 Gradient Boosting Outcome\n",
    "        3.2.4 Deep Neural Network\n",
    "            3.2.4.1 Apply to Deep Learning Model\n",
    "            3.2.4.2 Deep Learning Outcome   \n",
    "4. Test\n",
    "    4.1 Data pre-processing\n",
    "    4.2 Model test  \n",
    "        4.2.1 Random Forest Classifier\n",
    "        4.2.2 Gradient Boosting Classifier\n",
    "        4.2.3 Deep Neural Network\n",
    "        4.2.4 Model Compare\n",
    "![image.png](attachment:image.png)\n",
    "\n",
    "\n",
    "```"
   ]
  },
  {
   "cell_type": "markdown",
   "metadata": {},
   "source": [
    "question for meeting today:\n",
    "\n",
    "- which is the best for that dataset, and do we need to combine them (ensemble -> (gradient boosting, bagging))\n",
    "- about the year, should we sort the year or not \n",
    "- Name:, should convert into \n",
    "- what is the data size we need to choose\n",
    "- will we learn some new algorithm could also be applied to this prediction\n",
    "- train, valid, test split"
   ]
  },
  {
   "cell_type": "markdown",
   "metadata": {},
   "source": [
    "# 1. Load and pre-processing data"
   ]
  },
  {
   "cell_type": "markdown",
   "metadata": {},
   "source": [
    "##    1.1 Import data"
   ]
  },
  {
   "cell_type": "code",
   "execution_count": 1,
   "metadata": {},
   "outputs": [
    {
     "name": "stderr",
     "output_type": "stream",
     "text": [
      "//anaconda3/lib/python3.7/site-packages/sklearn/externals/joblib/__init__.py:15: DeprecationWarning: sklearn.externals.joblib is deprecated in 0.21 and will be removed in 0.23. Please import this functionality directly from joblib, which can be installed with: pip install joblib. If this warning is raised when loading pickled models, you may need to re-serialize those models with scikit-learn 0.21+.\n",
      "  warnings.warn(msg, category=DeprecationWarning)\n"
     ]
    }
   ],
   "source": [
    "import pandas as pd\n",
    "from sklearn import preprocessing\n",
    "from sklearn.metrics import confusion_matrix,accuracy_score,matthews_corrcoef,f1_score\n",
    "from sklearn.externals import joblib\n",
    "import joblib\n",
    "from matplotlib import pyplot as plt\n",
    "import seaborn as sns\n",
    "import numpy as np\n",
    "%matplotlib inline\n",
    "import warnings\n",
    "warnings.filterwarnings('ignore')"
   ]
  },
  {
   "cell_type": "code",
   "execution_count": 2,
   "metadata": {},
   "outputs": [
    {
     "name": "stdout",
     "output_type": "stream",
     "text": [
      "6105-final-project-document.docx\r\n",
      "Final Presentation-PM2.5 Based Air Quality Index Prediction and Insights Sharing.pptx\r\n",
      "INFO6105-Final-Project.pptx\r\n",
      "Project DNN-Multiclass.ipynb\r\n",
      "Project DNN.ipynb\r\n",
      "final-project-H-1B-Visa-Petitions-2011-2016.ipynb\r\n",
      "h1b_kaggle.csv\r\n",
      "\u001b[34mmodel\u001b[m\u001b[m/\r\n",
      "ppt-outline.docx\r\n"
     ]
    }
   ],
   "source": [
    "%ls"
   ]
  },
  {
   "cell_type": "code",
   "execution_count": 3,
   "metadata": {},
   "outputs": [],
   "source": [
    "my_path = %pwd\n",
    "my_df=pd.read_csv(f'{my_path}/h1b_kaggle.csv')"
   ]
  },
  {
   "cell_type": "code",
   "execution_count": 4,
   "metadata": {},
   "outputs": [
    {
     "data": {
      "text/plain": [
       "(3002458, 11)"
      ]
     },
     "execution_count": 4,
     "metadata": {},
     "output_type": "execute_result"
    }
   ],
   "source": [
    "my_df.shape"
   ]
  },
  {
   "cell_type": "markdown",
   "metadata": {},
   "source": [
    "## 1.2 Sort the data by the year"
   ]
  },
  {
   "cell_type": "code",
   "execution_count": 5,
   "metadata": {},
   "outputs": [
    {
     "data": {
      "text/html": [
       "<div>\n",
       "<style scoped>\n",
       "    .dataframe tbody tr th:only-of-type {\n",
       "        vertical-align: middle;\n",
       "    }\n",
       "\n",
       "    .dataframe tbody tr th {\n",
       "        vertical-align: top;\n",
       "    }\n",
       "\n",
       "    .dataframe thead th {\n",
       "        text-align: right;\n",
       "    }\n",
       "</style>\n",
       "<table border=\"1\" class=\"dataframe\">\n",
       "  <thead>\n",
       "    <tr style=\"text-align: right;\">\n",
       "      <th></th>\n",
       "      <th>Unnamed: 0</th>\n",
       "      <th>CASE_STATUS</th>\n",
       "      <th>EMPLOYER_NAME</th>\n",
       "      <th>SOC_NAME</th>\n",
       "      <th>JOB_TITLE</th>\n",
       "      <th>FULL_TIME_POSITION</th>\n",
       "      <th>PREVAILING_WAGE</th>\n",
       "      <th>YEAR</th>\n",
       "      <th>WORKSITE</th>\n",
       "      <th>lon</th>\n",
       "      <th>lat</th>\n",
       "    </tr>\n",
       "  </thead>\n",
       "  <tbody>\n",
       "    <tr>\n",
       "      <th>3002444</th>\n",
       "      <td>3002445</td>\n",
       "      <td>WITHDRAWN</td>\n",
       "      <td>LARSEN &amp; TOUBRO LIMITED</td>\n",
       "      <td>Commercial and Industrial Designers</td>\n",
       "      <td>DESIGN ENGINEER</td>\n",
       "      <td>Y</td>\n",
       "      <td>59800.0</td>\n",
       "      <td>2011.0</td>\n",
       "      <td>CHELMSFORD, MASSACHUSETTS</td>\n",
       "      <td>-71.367284</td>\n",
       "      <td>42.599814</td>\n",
       "    </tr>\n",
       "    <tr>\n",
       "      <th>2763260</th>\n",
       "      <td>2763261</td>\n",
       "      <td>CERTIFIED</td>\n",
       "      <td>INTEL CORPORATION</td>\n",
       "      <td>Industrial Engineers</td>\n",
       "      <td>YIELD ENGINEER</td>\n",
       "      <td>Y</td>\n",
       "      <td>82181.0</td>\n",
       "      <td>2011.0</td>\n",
       "      <td>HILLSBORO, OREGON</td>\n",
       "      <td>-122.989827</td>\n",
       "      <td>45.522894</td>\n",
       "    </tr>\n",
       "    <tr>\n",
       "      <th>2763261</th>\n",
       "      <td>2763262</td>\n",
       "      <td>CERTIFIED</td>\n",
       "      <td>DELOITTE &amp; TOUCHE LLP</td>\n",
       "      <td>Computer Software Engineers, Applications</td>\n",
       "      <td>ERS CONSULTANT</td>\n",
       "      <td>Y</td>\n",
       "      <td>54579.0</td>\n",
       "      <td>2011.0</td>\n",
       "      <td>INDIANAPOLIS, INDIANA</td>\n",
       "      <td>-86.158068</td>\n",
       "      <td>39.768403</td>\n",
       "    </tr>\n",
       "    <tr>\n",
       "      <th>2763262</th>\n",
       "      <td>2763263</td>\n",
       "      <td>CERTIFIED</td>\n",
       "      <td>APPLE INC.</td>\n",
       "      <td>General and Operations Managers</td>\n",
       "      <td>WW SUPPLY DEMAND PLANNER</td>\n",
       "      <td>Y</td>\n",
       "      <td>73965.0</td>\n",
       "      <td>2011.0</td>\n",
       "      <td>CUPERTINO, CALIFORNIA</td>\n",
       "      <td>-122.032182</td>\n",
       "      <td>37.322998</td>\n",
       "    </tr>\n",
       "    <tr>\n",
       "      <th>2763263</th>\n",
       "      <td>2763264</td>\n",
       "      <td>CERTIFIED</td>\n",
       "      <td>QUALCOMM INCORPORATED</td>\n",
       "      <td>Computer Software Engineers, Applications</td>\n",
       "      <td>STAFF SOFTWARE ENGINEER</td>\n",
       "      <td>Y</td>\n",
       "      <td>95597.0</td>\n",
       "      <td>2011.0</td>\n",
       "      <td>SAN DIEGO, CALIFORNIA</td>\n",
       "      <td>-117.161084</td>\n",
       "      <td>32.715738</td>\n",
       "    </tr>\n",
       "  </tbody>\n",
       "</table>\n",
       "</div>"
      ],
      "text/plain": [
       "         Unnamed: 0 CASE_STATUS            EMPLOYER_NAME  \\\n",
       "3002444     3002445   WITHDRAWN  LARSEN & TOUBRO LIMITED   \n",
       "2763260     2763261   CERTIFIED        INTEL CORPORATION   \n",
       "2763261     2763262   CERTIFIED    DELOITTE & TOUCHE LLP   \n",
       "2763262     2763263   CERTIFIED               APPLE INC.   \n",
       "2763263     2763264   CERTIFIED    QUALCOMM INCORPORATED   \n",
       "\n",
       "                                          SOC_NAME                 JOB_TITLE  \\\n",
       "3002444        Commercial and Industrial Designers           DESIGN ENGINEER   \n",
       "2763260                       Industrial Engineers            YIELD ENGINEER   \n",
       "2763261  Computer Software Engineers, Applications            ERS CONSULTANT   \n",
       "2763262            General and Operations Managers  WW SUPPLY DEMAND PLANNER   \n",
       "2763263  Computer Software Engineers, Applications   STAFF SOFTWARE ENGINEER   \n",
       "\n",
       "        FULL_TIME_POSITION  PREVAILING_WAGE    YEAR  \\\n",
       "3002444                  Y          59800.0  2011.0   \n",
       "2763260                  Y          82181.0  2011.0   \n",
       "2763261                  Y          54579.0  2011.0   \n",
       "2763262                  Y          73965.0  2011.0   \n",
       "2763263                  Y          95597.0  2011.0   \n",
       "\n",
       "                          WORKSITE         lon        lat  \n",
       "3002444  CHELMSFORD, MASSACHUSETTS  -71.367284  42.599814  \n",
       "2763260          HILLSBORO, OREGON -122.989827  45.522894  \n",
       "2763261      INDIANAPOLIS, INDIANA  -86.158068  39.768403  \n",
       "2763262      CUPERTINO, CALIFORNIA -122.032182  37.322998  \n",
       "2763263      SAN DIEGO, CALIFORNIA -117.161084  32.715738  "
      ]
     },
     "execution_count": 5,
     "metadata": {},
     "output_type": "execute_result"
    }
   ],
   "source": [
    "my_df.sort_values(by = \"YEAR\",inplace = True)\n",
    "my_df.head(5)"
   ]
  },
  {
   "cell_type": "markdown",
   "metadata": {},
   "source": [
    "##    1.3 Review data and drop columns"
   ]
  },
  {
   "cell_type": "code",
   "execution_count": 6,
   "metadata": {},
   "outputs": [
    {
     "name": "stdout",
     "output_type": "stream",
     "text": [
      "<class 'pandas.core.frame.DataFrame'>\n",
      "Int64Index: 3002458 entries, 3002444 to 3002457\n",
      "Data columns (total 11 columns):\n",
      "Unnamed: 0            int64\n",
      "CASE_STATUS           object\n",
      "EMPLOYER_NAME         object\n",
      "SOC_NAME              object\n",
      "JOB_TITLE             object\n",
      "FULL_TIME_POSITION    object\n",
      "PREVAILING_WAGE       float64\n",
      "YEAR                  float64\n",
      "WORKSITE              object\n",
      "lon                   float64\n",
      "lat                   float64\n",
      "dtypes: float64(4), int64(1), object(6)\n",
      "memory usage: 274.9+ MB\n"
     ]
    }
   ],
   "source": [
    "my_df.info()"
   ]
  },
  {
   "cell_type": "code",
   "execution_count": 7,
   "metadata": {},
   "outputs": [
    {
     "data": {
      "text/html": [
       "<div>\n",
       "<style scoped>\n",
       "    .dataframe tbody tr th:only-of-type {\n",
       "        vertical-align: middle;\n",
       "    }\n",
       "\n",
       "    .dataframe tbody tr th {\n",
       "        vertical-align: top;\n",
       "    }\n",
       "\n",
       "    .dataframe thead th {\n",
       "        text-align: right;\n",
       "    }\n",
       "</style>\n",
       "<table border=\"1\" class=\"dataframe\">\n",
       "  <thead>\n",
       "    <tr style=\"text-align: right;\">\n",
       "      <th></th>\n",
       "      <th>Unnamed: 0</th>\n",
       "      <th>CASE_STATUS</th>\n",
       "      <th>EMPLOYER_NAME</th>\n",
       "      <th>SOC_NAME</th>\n",
       "      <th>JOB_TITLE</th>\n",
       "      <th>FULL_TIME_POSITION</th>\n",
       "      <th>PREVAILING_WAGE</th>\n",
       "      <th>YEAR</th>\n",
       "      <th>WORKSITE</th>\n",
       "      <th>lon</th>\n",
       "      <th>lat</th>\n",
       "    </tr>\n",
       "  </thead>\n",
       "  <tbody>\n",
       "    <tr>\n",
       "      <th>3002444</th>\n",
       "      <td>3002445</td>\n",
       "      <td>WITHDRAWN</td>\n",
       "      <td>LARSEN &amp; TOUBRO LIMITED</td>\n",
       "      <td>Commercial and Industrial Designers</td>\n",
       "      <td>DESIGN ENGINEER</td>\n",
       "      <td>Y</td>\n",
       "      <td>59800.0</td>\n",
       "      <td>2011.0</td>\n",
       "      <td>CHELMSFORD, MASSACHUSETTS</td>\n",
       "      <td>-71.367284</td>\n",
       "      <td>42.599814</td>\n",
       "    </tr>\n",
       "    <tr>\n",
       "      <th>2763260</th>\n",
       "      <td>2763261</td>\n",
       "      <td>CERTIFIED</td>\n",
       "      <td>INTEL CORPORATION</td>\n",
       "      <td>Industrial Engineers</td>\n",
       "      <td>YIELD ENGINEER</td>\n",
       "      <td>Y</td>\n",
       "      <td>82181.0</td>\n",
       "      <td>2011.0</td>\n",
       "      <td>HILLSBORO, OREGON</td>\n",
       "      <td>-122.989827</td>\n",
       "      <td>45.522894</td>\n",
       "    </tr>\n",
       "    <tr>\n",
       "      <th>2763261</th>\n",
       "      <td>2763262</td>\n",
       "      <td>CERTIFIED</td>\n",
       "      <td>DELOITTE &amp; TOUCHE LLP</td>\n",
       "      <td>Computer Software Engineers, Applications</td>\n",
       "      <td>ERS CONSULTANT</td>\n",
       "      <td>Y</td>\n",
       "      <td>54579.0</td>\n",
       "      <td>2011.0</td>\n",
       "      <td>INDIANAPOLIS, INDIANA</td>\n",
       "      <td>-86.158068</td>\n",
       "      <td>39.768403</td>\n",
       "    </tr>\n",
       "    <tr>\n",
       "      <th>2763262</th>\n",
       "      <td>2763263</td>\n",
       "      <td>CERTIFIED</td>\n",
       "      <td>APPLE INC.</td>\n",
       "      <td>General and Operations Managers</td>\n",
       "      <td>WW SUPPLY DEMAND PLANNER</td>\n",
       "      <td>Y</td>\n",
       "      <td>73965.0</td>\n",
       "      <td>2011.0</td>\n",
       "      <td>CUPERTINO, CALIFORNIA</td>\n",
       "      <td>-122.032182</td>\n",
       "      <td>37.322998</td>\n",
       "    </tr>\n",
       "    <tr>\n",
       "      <th>2763263</th>\n",
       "      <td>2763264</td>\n",
       "      <td>CERTIFIED</td>\n",
       "      <td>QUALCOMM INCORPORATED</td>\n",
       "      <td>Computer Software Engineers, Applications</td>\n",
       "      <td>STAFF SOFTWARE ENGINEER</td>\n",
       "      <td>Y</td>\n",
       "      <td>95597.0</td>\n",
       "      <td>2011.0</td>\n",
       "      <td>SAN DIEGO, CALIFORNIA</td>\n",
       "      <td>-117.161084</td>\n",
       "      <td>32.715738</td>\n",
       "    </tr>\n",
       "  </tbody>\n",
       "</table>\n",
       "</div>"
      ],
      "text/plain": [
       "         Unnamed: 0 CASE_STATUS            EMPLOYER_NAME  \\\n",
       "3002444     3002445   WITHDRAWN  LARSEN & TOUBRO LIMITED   \n",
       "2763260     2763261   CERTIFIED        INTEL CORPORATION   \n",
       "2763261     2763262   CERTIFIED    DELOITTE & TOUCHE LLP   \n",
       "2763262     2763263   CERTIFIED               APPLE INC.   \n",
       "2763263     2763264   CERTIFIED    QUALCOMM INCORPORATED   \n",
       "\n",
       "                                          SOC_NAME                 JOB_TITLE  \\\n",
       "3002444        Commercial and Industrial Designers           DESIGN ENGINEER   \n",
       "2763260                       Industrial Engineers            YIELD ENGINEER   \n",
       "2763261  Computer Software Engineers, Applications            ERS CONSULTANT   \n",
       "2763262            General and Operations Managers  WW SUPPLY DEMAND PLANNER   \n",
       "2763263  Computer Software Engineers, Applications   STAFF SOFTWARE ENGINEER   \n",
       "\n",
       "        FULL_TIME_POSITION  PREVAILING_WAGE    YEAR  \\\n",
       "3002444                  Y          59800.0  2011.0   \n",
       "2763260                  Y          82181.0  2011.0   \n",
       "2763261                  Y          54579.0  2011.0   \n",
       "2763262                  Y          73965.0  2011.0   \n",
       "2763263                  Y          95597.0  2011.0   \n",
       "\n",
       "                          WORKSITE         lon        lat  \n",
       "3002444  CHELMSFORD, MASSACHUSETTS  -71.367284  42.599814  \n",
       "2763260          HILLSBORO, OREGON -122.989827  45.522894  \n",
       "2763261      INDIANAPOLIS, INDIANA  -86.158068  39.768403  \n",
       "2763262      CUPERTINO, CALIFORNIA -122.032182  37.322998  \n",
       "2763263      SAN DIEGO, CALIFORNIA -117.161084  32.715738  "
      ]
     },
     "execution_count": 7,
     "metadata": {},
     "output_type": "execute_result"
    }
   ],
   "source": [
    "my_df.head(5)"
   ]
  },
  {
   "cell_type": "code",
   "execution_count": 8,
   "metadata": {
    "scrolled": true
   },
   "outputs": [
    {
     "name": "stdout",
     "output_type": "stream",
     "text": [
      "\n",
      " Case Status:\n",
      "\n",
      " CERTIFIED                                             2615623\n",
      "CERTIFIED-WITHDRAWN                                    202659\n",
      "DENIED                                                  94346\n",
      "WITHDRAWN                                               89799\n",
      "PENDING QUALITY AND COMPLIANCE REVIEW - UNASSIGNED         15\n",
      "REJECTED                                                    2\n",
      "INVALIDATED                                                 1\n",
      "Name: CASE_STATUS, dtype: int64\n"
     ]
    }
   ],
   "source": [
    "case_status = my_df['CASE_STATUS'].value_counts()\n",
    "print('\\n Case Status:\\n\\n', case_status.head(10))"
   ]
  },
  {
   "cell_type": "code",
   "execution_count": 9,
   "metadata": {},
   "outputs": [
    {
     "name": "stdout",
     "output_type": "stream",
     "text": [
      "\n",
      " after filting Case Status:\n",
      "\n",
      " CERTIFIED    2615623\n",
      "DENIED         94346\n",
      "Name: CASE_STATUS, dtype: int64\n"
     ]
    }
   ],
   "source": [
    "# drop rows \"PENDING QUALITY AND COMPLIANCE REVIEW - UNASSIGNED \", \"INVALIDATED\" and \"REJECTED\"\n",
    "my_df = my_df.loc[my_df['CASE_STATUS'].isin([\"CERTIFIED\", \"DENIED\"])]\n",
    "case_status = my_df['CASE_STATUS'].value_counts()\n",
    "print('\\n after filting Case Status:\\n\\n', case_status.head(10))"
   ]
  },
  {
   "cell_type": "code",
   "execution_count": 10,
   "metadata": {},
   "outputs": [
    {
     "data": {
      "text/plain": [
       "<matplotlib.axes._subplots.AxesSubplot at 0x7f92f8a32cf8>"
      ]
     },
     "execution_count": 10,
     "metadata": {},
     "output_type": "execute_result"
    },
    {
     "data": {
      "image/png": "[encoded data removed]",
      "text/plain": [
       "<Figure size 720x432 with 1 Axes>"
      ]
     },
     "metadata": {
      "needs_background": "light"
     },
     "output_type": "display_data"
    }
   ],
   "source": [
    "null_vals = my_df.isnull().sum() / len(my_df) * 100\n",
    "null_vals = pd.DataFrame(null_vals)\n",
    "null_vals.reset_index(inplace = True)\n",
    "null_vals.columns = [\"Feature\",\"Percent missing\"]\n",
    "plt.figure(figsize = (10,6))\n",
    "plt.xticks(rotation=90)\n",
    "sns.barplot(x = \"Feature\",y =\"Percent missing\",data = null_vals)"
   ]
  },
  {
   "cell_type": "code",
   "execution_count": 11,
   "metadata": {},
   "outputs": [
    {
     "data": {
      "text/plain": [
       "CASE_STATUS               0\n",
       "EMPLOYER_NAME            18\n",
       "SOC_NAME              15893\n",
       "JOB_TITLE                10\n",
       "FULL_TIME_POSITION        1\n",
       "PREVAILING_WAGE          53\n",
       "YEAR                      0\n",
       "WORKSITE                  0\n",
       "lon                   97071\n",
       "lat                   97071\n",
       "dtype: int64"
      ]
     },
     "execution_count": 11,
     "metadata": {},
     "output_type": "execute_result"
    }
   ],
   "source": [
    "my_df = my_df.drop(\"Unnamed: 0\",axis = 1)\n",
    "my_df.isnull().sum()"
   ]
  },
  {
   "cell_type": "code",
   "execution_count": 12,
   "metadata": {},
   "outputs": [
    {
     "data": {
      "text/plain": [
       "CASE_STATUS               0\n",
       "EMPLOYER_NAME             0\n",
       "SOC_NAME                  0\n",
       "JOB_TITLE                 0\n",
       "FULL_TIME_POSITION        0\n",
       "PREVAILING_WAGE           0\n",
       "YEAR                      0\n",
       "WORKSITE                  0\n",
       "lon                   96727\n",
       "lat                   96727\n",
       "dtype: int64"
      ]
     },
     "execution_count": 12,
     "metadata": {},
     "output_type": "execute_result"
    }
   ],
   "source": [
    "my_df = my_df.dropna(subset = ['CASE_STATUS', 'EMPLOYER_NAME', 'SOC_NAME', 'JOB_TITLE', 'FULL_TIME_POSITION', 'PREVAILING_WAGE', 'YEAR', 'WORKSITE'])\n",
    "my_df.isnull().sum()"
   ]
  },
  {
   "cell_type": "code",
   "execution_count": 13,
   "metadata": {},
   "outputs": [
    {
     "name": "stdout",
     "output_type": "stream",
     "text": [
      "\n",
      " Top 10 Number of applications by worksite:\n",
      "\n",
      " NEW YORK, NEW YORK           170835\n",
      "HOUSTON, TEXAS                73667\n",
      "SAN FRANCISCO, CALIFORNIA     55816\n",
      "ATLANTA, GEORGIA              47756\n",
      "CHICAGO, ILLINOIS             46464\n",
      "SAN JOSE, CALIFORNIA          44917\n",
      "SUNNYVALE, CALIFORNIA         30653\n",
      "DALLAS, TEXAS                 28556\n",
      "CHARLOTTE, NORTH CAROLINA     28345\n",
      "BOSTON, MASSACHUSETTS         27653\n",
      "Name: WORKSITE, dtype: int64\n"
     ]
    }
   ],
   "source": [
    "# top 10 work-site\n",
    "worksite = my_df['WORKSITE'].value_counts()\n",
    "print('\\n Top 10 Number of applications by worksite:\\n\\n', worksite.head(10))"
   ]
  },
  {
   "cell_type": "code",
   "execution_count": 14,
   "metadata": {},
   "outputs": [],
   "source": [
    "my_df = my_df[(my_df['PREVAILING_WAGE'] < 150000)]"
   ]
  },
  {
   "cell_type": "markdown",
   "metadata": {},
   "source": [
    "##    1.4 Data Impute"
   ]
  },
  {
   "cell_type": "code",
   "execution_count": 15,
   "metadata": {},
   "outputs": [
    {
     "data": {
      "text/plain": [
       "CASE_STATUS           0\n",
       "EMPLOYER_NAME         0\n",
       "SOC_NAME              0\n",
       "JOB_TITLE             0\n",
       "FULL_TIME_POSITION    0\n",
       "PREVAILING_WAGE       0\n",
       "YEAR                  0\n",
       "WORKSITE              0\n",
       "lon                   0\n",
       "lat                   0\n",
       "dtype: int64"
      ]
     },
     "execution_count": 15,
     "metadata": {},
     "output_type": "execute_result"
    }
   ],
   "source": [
    "# impute the longitude and the latitude\n",
    "from pandas.api.types import is_numeric_dtype\n",
    "\n",
    "def mydf_imputer(my_df, feature, null_status):\n",
    "    if is_numeric_dtype(feature):\n",
    "        if pd.isnull(feature).sum():\n",
    "            filler = feature.median()\n",
    "            my_df[null_status] = feature.fillna(filler)\n",
    "\n",
    "for p,q in my_df.items(): \n",
    "    mydf_imputer(my_df, q, p)\n",
    "my_df.isnull().sum()"
   ]
  },
  {
   "cell_type": "code",
   "execution_count": 16,
   "metadata": {},
   "outputs": [
    {
     "data": {
      "text/html": [
       "<div>\n",
       "<style scoped>\n",
       "    .dataframe tbody tr th:only-of-type {\n",
       "        vertical-align: middle;\n",
       "    }\n",
       "\n",
       "    .dataframe tbody tr th {\n",
       "        vertical-align: top;\n",
       "    }\n",
       "\n",
       "    .dataframe thead th {\n",
       "        text-align: right;\n",
       "    }\n",
       "</style>\n",
       "<table border=\"1\" class=\"dataframe\">\n",
       "  <thead>\n",
       "    <tr style=\"text-align: right;\">\n",
       "      <th></th>\n",
       "      <th>CASE_STATUS</th>\n",
       "      <th>EMPLOYER_NAME</th>\n",
       "      <th>SOC_NAME</th>\n",
       "      <th>JOB_TITLE</th>\n",
       "      <th>FULL_TIME_POSITION</th>\n",
       "      <th>PREVAILING_WAGE</th>\n",
       "      <th>YEAR</th>\n",
       "      <th>WORKSITE</th>\n",
       "      <th>lon</th>\n",
       "      <th>lat</th>\n",
       "    </tr>\n",
       "  </thead>\n",
       "  <tbody>\n",
       "    <tr>\n",
       "      <th>2763260</th>\n",
       "      <td>CERTIFIED</td>\n",
       "      <td>INTEL CORPORATION</td>\n",
       "      <td>Industrial Engineers</td>\n",
       "      <td>YIELD ENGINEER</td>\n",
       "      <td>Y</td>\n",
       "      <td>82181.0</td>\n",
       "      <td>2011.0</td>\n",
       "      <td>HILLSBORO, OREGON</td>\n",
       "      <td>-122.989827</td>\n",
       "      <td>45.522894</td>\n",
       "    </tr>\n",
       "    <tr>\n",
       "      <th>2763261</th>\n",
       "      <td>CERTIFIED</td>\n",
       "      <td>DELOITTE &amp; TOUCHE LLP</td>\n",
       "      <td>Computer Software Engineers, Applications</td>\n",
       "      <td>ERS CONSULTANT</td>\n",
       "      <td>Y</td>\n",
       "      <td>54579.0</td>\n",
       "      <td>2011.0</td>\n",
       "      <td>INDIANAPOLIS, INDIANA</td>\n",
       "      <td>-86.158068</td>\n",
       "      <td>39.768403</td>\n",
       "    </tr>\n",
       "    <tr>\n",
       "      <th>2763262</th>\n",
       "      <td>CERTIFIED</td>\n",
       "      <td>APPLE INC.</td>\n",
       "      <td>General and Operations Managers</td>\n",
       "      <td>WW SUPPLY DEMAND PLANNER</td>\n",
       "      <td>Y</td>\n",
       "      <td>73965.0</td>\n",
       "      <td>2011.0</td>\n",
       "      <td>CUPERTINO, CALIFORNIA</td>\n",
       "      <td>-122.032182</td>\n",
       "      <td>37.322998</td>\n",
       "    </tr>\n",
       "    <tr>\n",
       "      <th>2763263</th>\n",
       "      <td>CERTIFIED</td>\n",
       "      <td>QUALCOMM INCORPORATED</td>\n",
       "      <td>Computer Software Engineers, Applications</td>\n",
       "      <td>STAFF SOFTWARE ENGINEER</td>\n",
       "      <td>Y</td>\n",
       "      <td>95597.0</td>\n",
       "      <td>2011.0</td>\n",
       "      <td>SAN DIEGO, CALIFORNIA</td>\n",
       "      <td>-117.161084</td>\n",
       "      <td>32.715738</td>\n",
       "    </tr>\n",
       "    <tr>\n",
       "      <th>2763264</th>\n",
       "      <td>CERTIFIED</td>\n",
       "      <td>HILLCREST EDUCATIONAL CENTERS, INC.</td>\n",
       "      <td>Rehabilitation Counselors</td>\n",
       "      <td>CASE SPECIALIST</td>\n",
       "      <td>Y</td>\n",
       "      <td>22568.0</td>\n",
       "      <td>2011.0</td>\n",
       "      <td>PITTSFIELD, MASSACHUSETTS</td>\n",
       "      <td>-73.245382</td>\n",
       "      <td>42.450084</td>\n",
       "    </tr>\n",
       "  </tbody>\n",
       "</table>\n",
       "</div>"
      ],
      "text/plain": [
       "        CASE_STATUS                        EMPLOYER_NAME  \\\n",
       "2763260   CERTIFIED                    INTEL CORPORATION   \n",
       "2763261   CERTIFIED                DELOITTE & TOUCHE LLP   \n",
       "2763262   CERTIFIED                           APPLE INC.   \n",
       "2763263   CERTIFIED                QUALCOMM INCORPORATED   \n",
       "2763264   CERTIFIED  HILLCREST EDUCATIONAL CENTERS, INC.   \n",
       "\n",
       "                                          SOC_NAME                 JOB_TITLE  \\\n",
       "2763260                       Industrial Engineers            YIELD ENGINEER   \n",
       "2763261  Computer Software Engineers, Applications            ERS CONSULTANT   \n",
       "2763262            General and Operations Managers  WW SUPPLY DEMAND PLANNER   \n",
       "2763263  Computer Software Engineers, Applications   STAFF SOFTWARE ENGINEER   \n",
       "2763264                  Rehabilitation Counselors           CASE SPECIALIST   \n",
       "\n",
       "        FULL_TIME_POSITION  PREVAILING_WAGE    YEAR  \\\n",
       "2763260                  Y          82181.0  2011.0   \n",
       "2763261                  Y          54579.0  2011.0   \n",
       "2763262                  Y          73965.0  2011.0   \n",
       "2763263                  Y          95597.0  2011.0   \n",
       "2763264                  Y          22568.0  2011.0   \n",
       "\n",
       "                          WORKSITE         lon        lat  \n",
       "2763260          HILLSBORO, OREGON -122.989827  45.522894  \n",
       "2763261      INDIANAPOLIS, INDIANA  -86.158068  39.768403  \n",
       "2763262      CUPERTINO, CALIFORNIA -122.032182  37.322998  \n",
       "2763263      SAN DIEGO, CALIFORNIA -117.161084  32.715738  \n",
       "2763264  PITTSFIELD, MASSACHUSETTS  -73.245382  42.450084  "
      ]
     },
     "execution_count": 16,
     "metadata": {},
     "output_type": "execute_result"
    }
   ],
   "source": [
    "my_df.head(5)"
   ]
  },
  {
   "cell_type": "markdown",
   "metadata": {},
   "source": []
  },
  {
   "cell_type": "markdown",
   "metadata": {},
   "source": [
    "# 2. Analysis"
   ]
  },
  {
   "cell_type": "markdown",
   "metadata": {},
   "source": [
    "##  2.1 H1-B Petition per year"
   ]
  },
  {
   "cell_type": "code",
   "execution_count": 17,
   "metadata": {},
   "outputs": [
    {
     "data": {
      "image/png": "[encoded data removed]",
      "text/plain": [
       "<Figure size 432x288 with 1 Axes>"
      ]
     },
     "metadata": {
      "needs_background": "light"
     },
     "output_type": "display_data"
    }
   ],
   "source": [
    "# year\n",
    "df_plot_petitions_year = pd.DataFrame(my_df['YEAR'].value_counts())\n",
    "df_plot_petitions_year = df_plot_petitions_year.sort_values(['YEAR'])\n",
    "plot_status_year = df_plot_petitions_year.plot(title = 'H1-B Petitions per year', kind = 'line')\n",
    "plot_status_year.set_xlabel('YEAR')\n",
    "plot_status_year.set_ylabel('NUMBER OF PETITIONS')\n",
    "plt.show()"
   ]
  },
  {
   "cell_type": "markdown",
   "metadata": {},
   "source": [
    "## 2.2 What are the top 10 jobs for H-1B applicants ?"
   ]
  },
  {
   "cell_type": "code",
   "execution_count": 18,
   "metadata": {},
   "outputs": [
    {
     "name": "stdout",
     "output_type": "stream",
     "text": [
      "\n",
      "Number of applications grouped by job title:\n",
      "\n",
      " PROGRAMMER ANALYST          224854\n",
      "SOFTWARE ENGINEER           104218\n",
      "COMPUTER PROGRAMMER          64804\n",
      "SYSTEMS ANALYST              56487\n",
      "SOFTWARE DEVELOPER           38611\n",
      "BUSINESS ANALYST             35837\n",
      "COMPUTER SYSTEMS ANALYST     31974\n",
      "TECHNOLOGY LEAD - US         28309\n",
      "TECHNOLOGY ANALYST - US      26008\n",
      "SENIOR SOFTWARE ENGINEER     23634\n",
      "Name: JOB_TITLE, dtype: int64\n"
     ]
    }
   ],
   "source": [
    "# job title\n",
    "job_title = my_df['JOB_TITLE'].value_counts()\n",
    "print('\\nNumber of applications grouped by job title:\\n\\n', job_title.head(10))"
   ]
  },
  {
   "cell_type": "code",
   "execution_count": 19,
   "metadata": {},
   "outputs": [
    {
     "data": {
      "image/png": "[encoded data removed]",
      "text/plain": [
       "<Figure size 504x360 with 1 Axes>"
      ]
     },
     "metadata": {
      "needs_background": "light"
     },
     "output_type": "display_data"
    }
   ],
   "source": [
    "plot_top_job_title = job_title.head(10).plot.barh(title = \"Top 15 in demand positions SOCs\", color = 'lightblue', figsize = (7, 5))\n",
    "plot_top_job_title.set_ylabel(\"Job title\")\n",
    "plot_top_job_title.set_xlabel('Number of applications')\n",
    "plot_top_job_title.spines['top'].set_visible(False)\n",
    "plot_top_job_title.spines['right'].set_visible(False)"
   ]
  },
  {
   "cell_type": "markdown",
   "metadata": {},
   "source": [
    "## 2.3 which companies use H-1B the most ？"
   ]
  },
  {
   "cell_type": "code",
   "execution_count": 20,
   "metadata": {},
   "outputs": [
    {
     "name": "stdout",
     "output_type": "stream",
     "text": [
      "\n",
      "Number of applications grouped by company name:\n",
      "\n",
      " INFOSYS LIMITED                      130178\n",
      "TATA CONSULTANCY SERVICES LIMITED     64347\n",
      "WIPRO LIMITED                         41699\n",
      "DELOITTE CONSULTING LLP               36626\n",
      "ACCENTURE LLP                         32880\n",
      "IBM INDIA PRIVATE LIMITED             27858\n",
      "MICROSOFT CORPORATION                 22325\n",
      "HCL AMERICA, INC.                     22298\n",
      "ERNST & YOUNG U.S. LLP                18194\n",
      "CAPGEMINI AMERICA INC                 15768\n",
      "Name: EMPLOYER_NAME, dtype: int64\n"
     ]
    }
   ],
   "source": [
    "# top 10 company use H-1B\n",
    "top_company = my_df['EMPLOYER_NAME'].value_counts()\n",
    "print('\\nNumber of applications grouped by company name:\\n\\n', top_company.head(10))"
   ]
  },
  {
   "cell_type": "code",
   "execution_count": 21,
   "metadata": {},
   "outputs": [
    {
     "data": {
      "image/png": "[encoded data removed]",
      "text/plain": [
       "<Figure size 504x360 with 1 Axes>"
      ]
     },
     "metadata": {
      "needs_background": "light"
     },
     "output_type": "display_data"
    }
   ],
   "source": [
    "plot_top_company = top_company.head(10).plot.barh(title = \"Top 10 Company use H-1B the most\", color = 'lightblue', figsize = (7, 5))\n",
    "plot_top_company.set_ylabel(\"Company Name\")\n",
    "plot_top_company.set_xlabel('Number of applications')\n",
    "plot_top_company.spines['top'].set_visible(False)\n",
    "plot_top_company.spines['right'].set_visible(False)"
   ]
  },
  {
   "cell_type": "markdown",
   "metadata": {},
   "source": [
    "## 2.4 wage distribution for H-1B applicants "
   ]
  },
  {
   "cell_type": "code",
   "execution_count": 22,
   "metadata": {},
   "outputs": [
    {
     "data": {
      "image/png": "[encoded data removed]",
      "text/plain": [
       "<Figure size 864x432 with 1 Axes>"
      ]
     },
     "metadata": {
      "needs_background": "light"
     },
     "output_type": "display_data"
    }
   ],
   "source": [
    "# wage distribution\n",
    "plt.figure(figsize=(12,6))\n",
    "my_df[my_df['PREVAILING_WAGE']<150000].PREVAILING_WAGE.hist(bins=40,color='lightblue')\n",
    "plt.title('Wage Distribution')\n",
    "plt.ylabel(\"Number of Applications\")\n",
    "plt.xlabel('Wage')\n",
    "plt.show()"
   ]
  },
  {
   "cell_type": "markdown",
   "metadata": {},
   "source": [
    "## 2.5 Top 10 cities for H-1B visa holder"
   ]
  },
  {
   "cell_type": "code",
   "execution_count": 23,
   "metadata": {},
   "outputs": [
    {
     "data": {
      "image/png": "[encoded data removed]",
      "text/plain": [
       "<Figure size 504x360 with 1 Axes>"
      ]
     },
     "metadata": {
      "needs_background": "light"
     },
     "output_type": "display_data"
    }
   ],
   "source": [
    "top_city = my_df['WORKSITE'].value_counts()\n",
    "plot_top_company = top_city.head(10).plot.barh(title = \"Top 10 cities for H-1B visa holder\", color = 'lightblue', figsize = (7, 5))\n",
    "plot_top_company.set_ylabel(\"City Name\")\n",
    "plot_top_company.set_xlabel('Number of applications')\n",
    "plot_top_company.spines['top'].set_visible(False)\n",
    "plot_top_company.spines['right'].set_visible(False)"
   ]
  },
  {
   "cell_type": "markdown",
   "metadata": {},
   "source": [
    "# 3. H-1B Case Status prediction (Classifier)"
   ]
  },
  {
   "cell_type": "markdown",
   "metadata": {},
   "source": [
    "## 3.1 Prepare for prediction "
   ]
  },
  {
   "cell_type": "markdown",
   "metadata": {},
   "source": [
    "### 3.1.1 Keep Good Ratio for Target Column"
   ]
  },
  {
   "cell_type": "code",
   "execution_count": 24,
   "metadata": {},
   "outputs": [
    {
     "name": "stdout",
     "output_type": "stream",
     "text": [
      "\n",
      " after filting Case Status:\n",
      "\n",
      " CERTIFIED    2565781\n",
      "DENIED         88977\n",
      "Name: CASE_STATUS, dtype: int64\n"
     ]
    }
   ],
   "source": [
    "# drop off some 'CERTIFIED' rows, keep a good ratio between 'CERTIFIED' and 'DENIED'\n",
    "my_df = my_df.loc[my_df['CASE_STATUS'].isin([\"CERTIFIED\", \"DENIED\"])]\n",
    "case_status = my_df['CASE_STATUS'].value_counts()\n",
    "print('\\n after filting Case Status:\\n\\n', case_status.head(10))"
   ]
  },
  {
   "cell_type": "code",
   "execution_count": 25,
   "metadata": {},
   "outputs": [
    {
     "data": {
      "text/html": [
       "<div>\n",
       "<style scoped>\n",
       "    .dataframe tbody tr th:only-of-type {\n",
       "        vertical-align: middle;\n",
       "    }\n",
       "\n",
       "    .dataframe tbody tr th {\n",
       "        vertical-align: top;\n",
       "    }\n",
       "\n",
       "    .dataframe thead th {\n",
       "        text-align: right;\n",
       "    }\n",
       "</style>\n",
       "<table border=\"1\" class=\"dataframe\">\n",
       "  <thead>\n",
       "    <tr style=\"text-align: right;\">\n",
       "      <th></th>\n",
       "      <th>CASE_STATUS</th>\n",
       "      <th>EMPLOYER_NAME</th>\n",
       "      <th>SOC_NAME</th>\n",
       "      <th>JOB_TITLE</th>\n",
       "      <th>FULL_TIME_POSITION</th>\n",
       "      <th>PREVAILING_WAGE</th>\n",
       "      <th>YEAR</th>\n",
       "      <th>WORKSITE</th>\n",
       "      <th>lon</th>\n",
       "      <th>lat</th>\n",
       "    </tr>\n",
       "  </thead>\n",
       "  <tbody>\n",
       "    <tr>\n",
       "      <th>2792133</th>\n",
       "      <td>DENIED</td>\n",
       "      <td>NETLINE CORPORATION</td>\n",
       "      <td>Computer Software Engineers, Applications</td>\n",
       "      <td>SOFTWARE ENGINEER</td>\n",
       "      <td>Y</td>\n",
       "      <td>77218.0</td>\n",
       "      <td>2011.0</td>\n",
       "      <td>LOS GATOS, CALIFORNIA</td>\n",
       "      <td>-121.962375</td>\n",
       "      <td>37.235808</td>\n",
       "    </tr>\n",
       "    <tr>\n",
       "      <th>2942790</th>\n",
       "      <td>DENIED</td>\n",
       "      <td>RIIS, L.L.C.</td>\n",
       "      <td>Software Developers, Applications</td>\n",
       "      <td>PHONE SOFTWARE DEVELOPER</td>\n",
       "      <td>Y</td>\n",
       "      <td>69805.0</td>\n",
       "      <td>2011.0</td>\n",
       "      <td>SOUTHFIELD, MICHIGAN</td>\n",
       "      <td>-83.221873</td>\n",
       "      <td>42.473369</td>\n",
       "    </tr>\n",
       "    <tr>\n",
       "      <th>2942786</th>\n",
       "      <td>DENIED</td>\n",
       "      <td>CHILDREN'S HOSPITAL PEDIATRIC ASSOCIATES, INC.</td>\n",
       "      <td>Physicians and Surgeons, All Other</td>\n",
       "      <td>NEONATOLOGIST</td>\n",
       "      <td>Y</td>\n",
       "      <td>106642.0</td>\n",
       "      <td>2011.0</td>\n",
       "      <td>BOSTON, MASSACHUSETTS</td>\n",
       "      <td>-71.058880</td>\n",
       "      <td>42.360083</td>\n",
       "    </tr>\n",
       "    <tr>\n",
       "      <th>2942782</th>\n",
       "      <td>DENIED</td>\n",
       "      <td>INTEL CORPORATION</td>\n",
       "      <td>Electronics Engineers, Except Computer</td>\n",
       "      <td>COMPONENT DESIGN ENGINEER</td>\n",
       "      <td>Y</td>\n",
       "      <td>77369.0</td>\n",
       "      <td>2011.0</td>\n",
       "      <td>DUPONT, WASHINGTON</td>\n",
       "      <td>-122.644789</td>\n",
       "      <td>47.100322</td>\n",
       "    </tr>\n",
       "    <tr>\n",
       "      <th>2942751</th>\n",
       "      <td>DENIED</td>\n",
       "      <td>CAPGEMINI FINANCIAL SERVICES USA INC</td>\n",
       "      <td>Computer and Information Systems Managers</td>\n",
       "      <td>MANAGER</td>\n",
       "      <td>Y</td>\n",
       "      <td>82014.0</td>\n",
       "      <td>2011.0</td>\n",
       "      <td>DETROIT, MICHIGAN</td>\n",
       "      <td>-83.045754</td>\n",
       "      <td>42.331427</td>\n",
       "    </tr>\n",
       "    <tr>\n",
       "      <th>2942730</th>\n",
       "      <td>DENIED</td>\n",
       "      <td>OKLAHOMA HEART HOSPITAL, LLC</td>\n",
       "      <td>Business Operations Specialists, All Other*</td>\n",
       "      <td>BUSINESS OFFICE ANALYST</td>\n",
       "      <td>Y</td>\n",
       "      <td>48069.0</td>\n",
       "      <td>2011.0</td>\n",
       "      <td>OKLAHOMA CITY, OKLAHOMA</td>\n",
       "      <td>-97.516428</td>\n",
       "      <td>35.467560</td>\n",
       "    </tr>\n",
       "    <tr>\n",
       "      <th>2942745</th>\n",
       "      <td>DENIED</td>\n",
       "      <td>THE DANBURY HOSPITAL</td>\n",
       "      <td>Physicians and Surgeons, All Other</td>\n",
       "      <td>RESIDENT PHYSICIAN</td>\n",
       "      <td>Y</td>\n",
       "      <td>50621.0</td>\n",
       "      <td>2011.0</td>\n",
       "      <td>DANBURY, CONNECTICUT</td>\n",
       "      <td>-73.454011</td>\n",
       "      <td>41.394817</td>\n",
       "    </tr>\n",
       "    <tr>\n",
       "      <th>2942743</th>\n",
       "      <td>DENIED</td>\n",
       "      <td>MATULEWICZ AND ASSOCIATES PC</td>\n",
       "      <td>Management Analysts</td>\n",
       "      <td>13-1111</td>\n",
       "      <td>Y</td>\n",
       "      <td>43805.0</td>\n",
       "      <td>2011.0</td>\n",
       "      <td>MCALLEN, TEXAS</td>\n",
       "      <td>-98.230012</td>\n",
       "      <td>26.203407</td>\n",
       "    </tr>\n",
       "    <tr>\n",
       "      <th>2942733</th>\n",
       "      <td>DENIED</td>\n",
       "      <td>N &amp; N ORCHIDS, INC.</td>\n",
       "      <td>Financial Analysts</td>\n",
       "      <td>CONTROLLER</td>\n",
       "      <td>N</td>\n",
       "      <td>48110.4</td>\n",
       "      <td>2011.0</td>\n",
       "      <td>DORAL, FLORIDA</td>\n",
       "      <td>-80.355330</td>\n",
       "      <td>25.819542</td>\n",
       "    </tr>\n",
       "    <tr>\n",
       "      <th>2957885</th>\n",
       "      <td>CERTIFIED</td>\n",
       "      <td>TECH MAHINDRA (AMERICAS), INC.</td>\n",
       "      <td>Computer Systems Analysts</td>\n",
       "      <td>PROGRAMMER ANALYST</td>\n",
       "      <td>Y</td>\n",
       "      <td>51854.0</td>\n",
       "      <td>2011.0</td>\n",
       "      <td>FARMERS BRANCH, TEXAS</td>\n",
       "      <td>-96.896115</td>\n",
       "      <td>32.926514</td>\n",
       "    </tr>\n",
       "  </tbody>\n",
       "</table>\n",
       "</div>"
      ],
      "text/plain": [
       "        CASE_STATUS                                   EMPLOYER_NAME  \\\n",
       "2792133      DENIED                             NETLINE CORPORATION   \n",
       "2942790      DENIED                                    RIIS, L.L.C.   \n",
       "2942786      DENIED  CHILDREN'S HOSPITAL PEDIATRIC ASSOCIATES, INC.   \n",
       "2942782      DENIED                               INTEL CORPORATION   \n",
       "2942751      DENIED            CAPGEMINI FINANCIAL SERVICES USA INC   \n",
       "2942730      DENIED                    OKLAHOMA HEART HOSPITAL, LLC   \n",
       "2942745      DENIED                            THE DANBURY HOSPITAL   \n",
       "2942743      DENIED                    MATULEWICZ AND ASSOCIATES PC   \n",
       "2942733      DENIED                             N & N ORCHIDS, INC.   \n",
       "2957885   CERTIFIED                  TECH MAHINDRA (AMERICAS), INC.   \n",
       "\n",
       "                                            SOC_NAME  \\\n",
       "2792133    Computer Software Engineers, Applications   \n",
       "2942790            Software Developers, Applications   \n",
       "2942786           Physicians and Surgeons, All Other   \n",
       "2942782       Electronics Engineers, Except Computer   \n",
       "2942751    Computer and Information Systems Managers   \n",
       "2942730  Business Operations Specialists, All Other*   \n",
       "2942745           Physicians and Surgeons, All Other   \n",
       "2942743                          Management Analysts   \n",
       "2942733                           Financial Analysts   \n",
       "2957885                    Computer Systems Analysts   \n",
       "\n",
       "                         JOB_TITLE FULL_TIME_POSITION  PREVAILING_WAGE  \\\n",
       "2792133          SOFTWARE ENGINEER                  Y          77218.0   \n",
       "2942790   PHONE SOFTWARE DEVELOPER                  Y          69805.0   \n",
       "2942786              NEONATOLOGIST                  Y         106642.0   \n",
       "2942782  COMPONENT DESIGN ENGINEER                  Y          77369.0   \n",
       "2942751                    MANAGER                  Y          82014.0   \n",
       "2942730    BUSINESS OFFICE ANALYST                  Y          48069.0   \n",
       "2942745         RESIDENT PHYSICIAN                  Y          50621.0   \n",
       "2942743                    13-1111                  Y          43805.0   \n",
       "2942733                 CONTROLLER                  N          48110.4   \n",
       "2957885         PROGRAMMER ANALYST                  Y          51854.0   \n",
       "\n",
       "           YEAR                 WORKSITE         lon        lat  \n",
       "2792133  2011.0    LOS GATOS, CALIFORNIA -121.962375  37.235808  \n",
       "2942790  2011.0     SOUTHFIELD, MICHIGAN  -83.221873  42.473369  \n",
       "2942786  2011.0    BOSTON, MASSACHUSETTS  -71.058880  42.360083  \n",
       "2942782  2011.0       DUPONT, WASHINGTON -122.644789  47.100322  \n",
       "2942751  2011.0        DETROIT, MICHIGAN  -83.045754  42.331427  \n",
       "2942730  2011.0  OKLAHOMA CITY, OKLAHOMA  -97.516428  35.467560  \n",
       "2942745  2011.0     DANBURY, CONNECTICUT  -73.454011  41.394817  \n",
       "2942743  2011.0           MCALLEN, TEXAS  -98.230012  26.203407  \n",
       "2942733  2011.0           DORAL, FLORIDA  -80.355330  25.819542  \n",
       "2957885  2011.0    FARMERS BRANCH, TEXAS  -96.896115  32.926514  "
      ]
     },
     "execution_count": 25,
     "metadata": {},
     "output_type": "execute_result"
    }
   ],
   "source": [
    "\n",
    "from sklearn.model_selection import train_test_split\n",
    "my_df_certified = my_df[my_df['CASE_STATUS'] == 'CERTIFIED']\n",
    "my_df_denied = my_df[my_df['CASE_STATUS'] == 'DENIED']\n",
    "\n",
    "my_df_certified_keep, my_df_certified_drop = train_test_split(my_df_certified, train_size= 0.03, random_state=123)\n",
    "my_df = my_df_certified_keep.append(my_df_denied)\n",
    "my_df.sort_values(by = \"YEAR\",inplace = True)\n",
    "my_df.head(10)"
   ]
  },
  {
   "cell_type": "code",
   "execution_count": 26,
   "metadata": {},
   "outputs": [
    {
     "name": "stdout",
     "output_type": "stream",
     "text": [
      "\n",
      " after filting Case Status:\n",
      "\n",
      " DENIED       88977\n",
      "CERTIFIED    76973\n",
      "Name: CASE_STATUS, dtype: int64\n"
     ]
    }
   ],
   "source": [
    "my_df = my_df.loc[my_df['CASE_STATUS'].isin([\"CERTIFIED\", \"DENIED\"])]\n",
    "case_status = my_df['CASE_STATUS'].value_counts()\n",
    "print('\\n after filting Case Status:\\n\\n', case_status.head(10))"
   ]
  },
  {
   "cell_type": "markdown",
   "metadata": {},
   "source": [
    "### 3.1.2 Encoding catagorical features"
   ]
  },
  {
   "cell_type": "code",
   "execution_count": 27,
   "metadata": {},
   "outputs": [],
   "source": [
    "from pandas.api.types import is_string_dtype,is_numeric_dtype\n",
    "\n",
    "def str_to_cat(my_df):\n",
    "    for p,q in my_df.items():\n",
    "        if is_string_dtype(q):\n",
    "            my_df[p] = q.astype('category').cat.as_ordered()\n",
    "    return my_df\n",
    "\n",
    "\n",
    "my_df = str_to_cat(my_df)\n",
    "\n",
    "def mydf_to_nums(my_df, feature, null_status):\n",
    "    if not is_numeric_dtype(feature):\n",
    "        my_df[null_status] = feature.cat.codes\n",
    "        \n",
    "for p,q in my_df.items(): \n",
    "        mydf_to_nums(my_df, q, p)"
   ]
  },
  {
   "cell_type": "markdown",
   "metadata": {},
   "source": [
    "### 3.1.3 StandardScaler"
   ]
  },
  {
   "cell_type": "code",
   "execution_count": 28,
   "metadata": {},
   "outputs": [],
   "source": [
    "\n",
    "# X_cat -> catagorical, X_con -> continuous\n",
    "df_cat = my_df[['CASE_STATUS', 'EMPLOYER_NAME', 'SOC_NAME', 'JOB_TITLE', 'FULL_TIME_POSITION', 'WORKSITE']]\n",
    "df_con = my_df.drop(df_cat,axis = 1)"
   ]
  },
  {
   "cell_type": "code",
   "execution_count": 29,
   "metadata": {},
   "outputs": [
    {
     "data": {
      "text/html": [
       "<div>\n",
       "<style scoped>\n",
       "    .dataframe tbody tr th:only-of-type {\n",
       "        vertical-align: middle;\n",
       "    }\n",
       "\n",
       "    .dataframe tbody tr th {\n",
       "        vertical-align: top;\n",
       "    }\n",
       "\n",
       "    .dataframe thead th {\n",
       "        text-align: right;\n",
       "    }\n",
       "</style>\n",
       "<table border=\"1\" class=\"dataframe\">\n",
       "  <thead>\n",
       "    <tr style=\"text-align: right;\">\n",
       "      <th></th>\n",
       "      <th>CASE_STATUS</th>\n",
       "      <th>EMPLOYER_NAME</th>\n",
       "      <th>SOC_NAME</th>\n",
       "      <th>JOB_TITLE</th>\n",
       "      <th>FULL_TIME_POSITION</th>\n",
       "      <th>WORKSITE</th>\n",
       "      <th>PREVAILING_WAGE</th>\n",
       "      <th>YEAR</th>\n",
       "      <th>lon</th>\n",
       "      <th>lat</th>\n",
       "    </tr>\n",
       "  </thead>\n",
       "  <tbody>\n",
       "    <tr>\n",
       "      <th>0</th>\n",
       "      <td>1</td>\n",
       "      <td>40827</td>\n",
       "      <td>323</td>\n",
       "      <td>33001</td>\n",
       "      <td>1</td>\n",
       "      <td>3854</td>\n",
       "      <td>0.515681</td>\n",
       "      <td>-1.298782</td>\n",
       "      <td>-1.365938</td>\n",
       "      <td>-0.119281</td>\n",
       "    </tr>\n",
       "    <tr>\n",
       "      <th>1</th>\n",
       "      <td>1</td>\n",
       "      <td>49548</td>\n",
       "      <td>1258</td>\n",
       "      <td>23113</td>\n",
       "      <td>1</td>\n",
       "      <td>6355</td>\n",
       "      <td>0.192712</td>\n",
       "      <td>-1.298782</td>\n",
       "      <td>0.336636</td>\n",
       "      <td>0.949353</td>\n",
       "    </tr>\n",
       "    <tr>\n",
       "      <th>2</th>\n",
       "      <td>1</td>\n",
       "      <td>11837</td>\n",
       "      <td>1065</td>\n",
       "      <td>21463</td>\n",
       "      <td>1</td>\n",
       "      <td>761</td>\n",
       "      <td>1.797623</td>\n",
       "      <td>-1.298782</td>\n",
       "      <td>0.871178</td>\n",
       "      <td>0.926239</td>\n",
       "    </tr>\n",
       "    <tr>\n",
       "      <th>3</th>\n",
       "      <td>1</td>\n",
       "      <td>29193</td>\n",
       "      <td>488</td>\n",
       "      <td>6975</td>\n",
       "      <td>1</td>\n",
       "      <td>1860</td>\n",
       "      <td>0.522260</td>\n",
       "      <td>-1.298782</td>\n",
       "      <td>-1.395929</td>\n",
       "      <td>1.893402</td>\n",
       "    </tr>\n",
       "    <tr>\n",
       "      <th>4</th>\n",
       "      <td>1</td>\n",
       "      <td>10322</td>\n",
       "      <td>341</td>\n",
       "      <td>18733</td>\n",
       "      <td>1</td>\n",
       "      <td>1761</td>\n",
       "      <td>0.724633</td>\n",
       "      <td>-1.298782</td>\n",
       "      <td>0.344376</td>\n",
       "      <td>0.920392</td>\n",
       "    </tr>\n",
       "  </tbody>\n",
       "</table>\n",
       "</div>"
      ],
      "text/plain": [
       "   CASE_STATUS  EMPLOYER_NAME  SOC_NAME  JOB_TITLE  FULL_TIME_POSITION  \\\n",
       "0            1          40827       323      33001                   1   \n",
       "1            1          49548      1258      23113                   1   \n",
       "2            1          11837      1065      21463                   1   \n",
       "3            1          29193       488       6975                   1   \n",
       "4            1          10322       341      18733                   1   \n",
       "\n",
       "   WORKSITE  PREVAILING_WAGE      YEAR       lon       lat  \n",
       "0      3854         0.515681 -1.298782 -1.365938 -0.119281  \n",
       "1      6355         0.192712 -1.298782  0.336636  0.949353  \n",
       "2       761         1.797623 -1.298782  0.871178  0.926239  \n",
       "3      1860         0.522260 -1.298782 -1.395929  1.893402  \n",
       "4      1761         0.724633 -1.298782  0.344376  0.920392  "
      ]
     },
     "execution_count": 29,
     "metadata": {},
     "output_type": "execute_result"
    }
   ],
   "source": [
    "from sklearn import preprocessing\n",
    "scaler = preprocessing.StandardScaler().fit(df_con)\n",
    "df_con_sc = pd.DataFrame(scaler.transform(df_con))\n",
    "df_con_sc.columns = ['PREVAILING_WAGE', 'YEAR', 'lon', 'lat']\n",
    "\n",
    "df_cat.reset_index(inplace = True,drop = False)\n",
    "df_cat.drop(\"index\",inplace = True,axis = 1)\n",
    "df_list = [df_cat,df_con_sc]\n",
    "df_full = pd.concat(df_list,axis = 1)\n",
    "df_full.head(5)"
   ]
  },
  {
   "cell_type": "markdown",
   "metadata": {},
   "source": [
    "### 3.1.3 Split Target Columns"
   ]
  },
  {
   "cell_type": "code",
   "execution_count": 30,
   "metadata": {},
   "outputs": [],
   "source": [
    "X = df_full.iloc[:, 1:]\n",
    "Y = df_full.iloc[:, 0]"
   ]
  },
  {
   "cell_type": "markdown",
   "metadata": {},
   "source": [
    "### 3.1.5 Split Train, validation, test dataset"
   ]
  },
  {
   "cell_type": "code",
   "execution_count": 31,
   "metadata": {},
   "outputs": [
    {
     "name": "stdout",
     "output_type": "stream",
     "text": [
      "\n",
      " after filting Case Status:\n",
      "\n",
      " 1    88977\n",
      "0    76973\n",
      "Name: CASE_STATUS, dtype: int64\n"
     ]
    }
   ],
   "source": [
    "case_status = my_df['CASE_STATUS'].value_counts()\n",
    "print('\\n after filting Case Status:\\n\\n', case_status.head(10))"
   ]
  },
  {
   "cell_type": "code",
   "execution_count": 32,
   "metadata": {},
   "outputs": [],
   "source": [
    "from sklearn.model_selection import train_test_split\n",
    "\n",
    "\n",
    "def split_data(my_df):\n",
    "    border = int(len(my_df) * 0.85)\n",
    "    return my_df[:border].copy(), my_df[border:]\n",
    "\n",
    "x_train_total, x_test = train_test_split(X, train_size= 0.85, random_state=123)\n",
    "y_train_total, y_test = train_test_split(Y, train_size= 0.85, random_state=123)\n",
    "\n",
    "\n",
    "x_train, x_val = train_test_split(x_train_total, train_size= 0.85, random_state=123)\n",
    "y_train, y_val = train_test_split(y_train_total, train_size= 0.85, random_state=123)"
   ]
  },
  {
   "cell_type": "code",
   "execution_count": 33,
   "metadata": {},
   "outputs": [
    {
     "data": {
      "text/plain": [
       "1    11262\n",
       "0     9897\n",
       "Name: CASE_STATUS, dtype: int64"
      ]
     },
     "execution_count": 33,
     "metadata": {},
     "output_type": "execute_result"
    }
   ],
   "source": [
    "y_val.value_counts()"
   ]
  },
  {
   "cell_type": "markdown",
   "metadata": {},
   "source": [
    "### 3.1.6 Feature Selection"
   ]
  },
  {
   "cell_type": "code",
   "execution_count": 34,
   "metadata": {},
   "outputs": [
    {
     "data": {
      "text/plain": [
       "array([0.16373123, 0.11606047, 0.15404433, 0.00964893, 0.09808762,\n",
       "       0.16471352, 0.09992268, 0.09606588, 0.09772534])"
      ]
     },
     "execution_count": 34,
     "metadata": {},
     "output_type": "execute_result"
    }
   ],
   "source": [
    "from sklearn.ensemble import RandomForestClassifier\n",
    "from sklearn.feature_selection import SelectFromModel\n",
    "\n",
    "clf = RandomForestClassifier()\n",
    "clf = clf.fit(x_train, y_train)\n",
    "clf.feature_importances_"
   ]
  },
  {
   "cell_type": "code",
   "execution_count": 35,
   "metadata": {},
   "outputs": [
    {
     "name": "stdout",
     "output_type": "stream",
     "text": [
      "Index(['EMPLOYER_NAME', 'SOC_NAME', 'JOB_TITLE', 'WORKSITE', 'PREVAILING_WAGE',\n",
      "       'YEAR', 'lon', 'lat'],\n",
      "      dtype='object')\n"
     ]
    }
   ],
   "source": [
    "model=SelectFromModel(clf,threshold=0.03,prefit=True)\n",
    "model.transform(x_train)\n",
    "feature_idx=model.get_support()\n",
    "feature_name=x_train.columns[feature_idx]\n",
    "print(feature_name)"
   ]
  },
  {
   "cell_type": "code",
   "execution_count": 36,
   "metadata": {},
   "outputs": [
    {
     "data": {
      "text/plain": [
       "((119898, 8), (21159, 8))"
      ]
     },
     "execution_count": 36,
     "metadata": {},
     "output_type": "execute_result"
    }
   ],
   "source": [
    "x_train_fs = x_train[list(feature_name)]\n",
    "x_val_fs = x_val[list(feature_name)]\n",
    "x_train_fs.shape, x_val_fs.shape"
   ]
  },
  {
   "cell_type": "code",
   "execution_count": 37,
   "metadata": {},
   "outputs": [
    {
     "data": {
      "text/plain": [
       "((21159, 8), (21159,))"
      ]
     },
     "execution_count": 37,
     "metadata": {},
     "output_type": "execute_result"
    }
   ],
   "source": [
    "x_val_fs.shape, y_val.shape"
   ]
  },
  {
   "cell_type": "code",
   "execution_count": 38,
   "metadata": {},
   "outputs": [
    {
     "data": {
      "text/plain": [
       "((119898, 8), (119898,))"
      ]
     },
     "execution_count": 38,
     "metadata": {},
     "output_type": "execute_result"
    }
   ],
   "source": [
    "x_train_fs.shape, y_train.shape"
   ]
  },
  {
   "cell_type": "code",
   "execution_count": 39,
   "metadata": {},
   "outputs": [
    {
     "name": "stdout",
     "output_type": "stream",
     "text": [
      "<class 'pandas.core.frame.DataFrame'>\n",
      "Int64Index: 119898 entries, 162696 to 82326\n",
      "Data columns (total 8 columns):\n",
      "EMPLOYER_NAME      119898 non-null int32\n",
      "SOC_NAME           119898 non-null int16\n",
      "JOB_TITLE          119898 non-null int32\n",
      "WORKSITE           119898 non-null int16\n",
      "PREVAILING_WAGE    119898 non-null float64\n",
      "YEAR               119898 non-null float64\n",
      "lon                119898 non-null float64\n",
      "lat                119898 non-null float64\n",
      "dtypes: float64(4), int16(2), int32(2)\n",
      "memory usage: 5.9 MB\n"
     ]
    },
    {
     "data": {
      "text/html": [
       "<div>\n",
       "<style scoped>\n",
       "    .dataframe tbody tr th:only-of-type {\n",
       "        vertical-align: middle;\n",
       "    }\n",
       "\n",
       "    .dataframe tbody tr th {\n",
       "        vertical-align: top;\n",
       "    }\n",
       "\n",
       "    .dataframe thead th {\n",
       "        text-align: right;\n",
       "    }\n",
       "</style>\n",
       "<table border=\"1\" class=\"dataframe\">\n",
       "  <thead>\n",
       "    <tr style=\"text-align: right;\">\n",
       "      <th></th>\n",
       "      <th>EMPLOYER_NAME</th>\n",
       "      <th>SOC_NAME</th>\n",
       "      <th>JOB_TITLE</th>\n",
       "      <th>WORKSITE</th>\n",
       "      <th>PREVAILING_WAGE</th>\n",
       "      <th>YEAR</th>\n",
       "      <th>lon</th>\n",
       "      <th>lat</th>\n",
       "    </tr>\n",
       "  </thead>\n",
       "  <tbody>\n",
       "    <tr>\n",
       "      <th>162696</th>\n",
       "      <td>56030</td>\n",
       "      <td>236</td>\n",
       "      <td>25080</td>\n",
       "      <td>6340</td>\n",
       "      <td>1.760460</td>\n",
       "      <td>1.519444</td>\n",
       "      <td>-1.385512</td>\n",
       "      <td>-0.033822</td>\n",
       "    </tr>\n",
       "    <tr>\n",
       "      <th>95546</th>\n",
       "      <td>30167</td>\n",
       "      <td>332</td>\n",
       "      <td>24081</td>\n",
       "      <td>3231</td>\n",
       "      <td>0.238023</td>\n",
       "      <td>0.392154</td>\n",
       "      <td>-0.266641</td>\n",
       "      <td>-1.021471</td>\n",
       "    </tr>\n",
       "    <tr>\n",
       "      <th>93962</th>\n",
       "      <td>54155</td>\n",
       "      <td>1373</td>\n",
       "      <td>39083</td>\n",
       "      <td>895</td>\n",
       "      <td>-0.978132</td>\n",
       "      <td>0.392154</td>\n",
       "      <td>0.744375</td>\n",
       "      <td>0.583075</td>\n",
       "    </tr>\n",
       "    <tr>\n",
       "      <th>56312</th>\n",
       "      <td>48443</td>\n",
       "      <td>572</td>\n",
       "      <td>9260</td>\n",
       "      <td>4715</td>\n",
       "      <td>-0.145331</td>\n",
       "      <td>-0.735137</td>\n",
       "      <td>0.741660</td>\n",
       "      <td>0.590136</td>\n",
       "    </tr>\n",
       "    <tr>\n",
       "      <th>164199</th>\n",
       "      <td>33093</td>\n",
       "      <td>4</td>\n",
       "      <td>29392</td>\n",
       "      <td>1290</td>\n",
       "      <td>-0.389094</td>\n",
       "      <td>1.519444</td>\n",
       "      <td>0.279937</td>\n",
       "      <td>0.261711</td>\n",
       "    </tr>\n",
       "  </tbody>\n",
       "</table>\n",
       "</div>"
      ],
      "text/plain": [
       "        EMPLOYER_NAME  SOC_NAME  JOB_TITLE  WORKSITE  PREVAILING_WAGE  \\\n",
       "162696          56030       236      25080      6340         1.760460   \n",
       "95546           30167       332      24081      3231         0.238023   \n",
       "93962           54155      1373      39083       895        -0.978132   \n",
       "56312           48443       572       9260      4715        -0.145331   \n",
       "164199          33093         4      29392      1290        -0.389094   \n",
       "\n",
       "            YEAR       lon       lat  \n",
       "162696  1.519444 -1.385512 -0.033822  \n",
       "95546   0.392154 -0.266641 -1.021471  \n",
       "93962   0.392154  0.744375  0.583075  \n",
       "56312  -0.735137  0.741660  0.590136  \n",
       "164199  1.519444  0.279937  0.261711  "
      ]
     },
     "execution_count": 39,
     "metadata": {},
     "output_type": "execute_result"
    }
   ],
   "source": [
    "x_train_fs.info()\n",
    "x_train_fs.head(5)"
   ]
  },
  {
   "cell_type": "code",
   "execution_count": 40,
   "metadata": {},
   "outputs": [
    {
     "data": {
      "text/plain": [
       "162696    0\n",
       "95546     1\n",
       "93962     0\n",
       "56312     1\n",
       "164199    0\n",
       "Name: CASE_STATUS, dtype: int8"
      ]
     },
     "execution_count": 40,
     "metadata": {},
     "output_type": "execute_result"
    }
   ],
   "source": [
    "y_train.head(5)\n"
   ]
  },
  {
   "cell_type": "markdown",
   "metadata": {},
   "source": [
    "## 3.2 Model Selection"
   ]
  },
  {
   "cell_type": "markdown",
   "metadata": {},
   "source": [
    "### 3.2.1 function definition"
   ]
  },
  {
   "cell_type": "code",
   "execution_count": 41,
   "metadata": {},
   "outputs": [],
   "source": [
    "from sklearn.metrics import confusion_matrix\n",
    "from sklearn.metrics import precision_score, fbeta_score\n",
    "import time\n",
    "import matplotlib.pyplot as plt\n",
    "import sklearn.metrics as metrics\n",
    "\n",
    "def plot_confusion_matrix(cm,\n",
    "                          target_names,\n",
    "                          title='Confusion matrix',\n",
    "                          cmap=None,\n",
    "                          normalize=True):\n",
    "    \"\"\"\n",
    "    http://scikit-learn.org/stable/auto_examples/model_selection/plot_confusion_matrix.html\n",
    "    \"\"\"\n",
    "    import matplotlib.pyplot as plt\n",
    "    import numpy as np\n",
    "    import itertools\n",
    "\n",
    "    accuracy = np.trace(cm) / float(np.sum(cm))\n",
    "    misclass = 1 - accuracy\n",
    "\n",
    "    if cmap is None:\n",
    "        cmap = plt.get_cmap('Blues')\n",
    "\n",
    "    plt.figure(figsize=(8, 6))\n",
    "    plt.imshow(cm, interpolation='nearest', cmap=cmap)\n",
    "    plt.title(title)\n",
    "    plt.colorbar()\n",
    "\n",
    "    if target_names is not None:\n",
    "        tick_marks = np.arange(len(target_names))\n",
    "        plt.xticks(tick_marks, target_names, rotation=45)\n",
    "        plt.yticks(tick_marks, target_names)\n",
    "\n",
    "    if normalize:\n",
    "        cm = cm.astype('float') / cm.sum(axis=1)[:, np.newaxis]\n",
    "\n",
    "\n",
    "    thresh = cm.max() / 1.5 if normalize else cm.max() / 2\n",
    "    for i, j in itertools.product(range(cm.shape[0]), range(cm.shape[1])):\n",
    "        if normalize:\n",
    "            plt.text(j, i, \"{:0.4f}\".format(cm[i, j]),\n",
    "                     horizontalalignment=\"center\",\n",
    "                     color=\"white\" if cm[i, j] > thresh else \"black\")\n",
    "        else:\n",
    "            plt.text(j, i, \"{:,}\".format(cm[i, j]),\n",
    "                     horizontalalignment=\"center\",\n",
    "                     color=\"white\" if cm[i, j] > thresh else \"black\")\n",
    "\n",
    "\n",
    "    plt.tight_layout()\n",
    "    plt.ylabel('True label')\n",
    "    plt.xlabel('Predicted label\\naccuracy={:0.4f}; misclass={:0.4f}'.format(accuracy, misclass))\n",
    "    plt.show()\n",
    "    \n",
    "def roc_plot(y_test, y_test_pred):\n",
    "    fpr, tpr, threshold = metrics.roc_curve(y_test, y_test_pred)\n",
    "    roc_auc = metrics.auc(fpr, tpr)\n",
    "\n",
    "    plt.title('Receiver Operating Characteristic')\n",
    "    plt.plot(fpr, tpr, 'b', label = 'AUC = %0.2f' % roc_auc)\n",
    "    plt.legend(loc = 'lower right')\n",
    "    plt.plot([0, 1], [0, 1],'r--')\n",
    "    plt.xlim([0, 1])\n",
    "    plt.ylim([0, 1])\n",
    "    plt.ylabel('True Positive Rate')\n",
    "    plt.xlabel('False Positive Rate')\n",
    "    plt.show()"
   ]
  },
  {
   "cell_type": "code",
   "execution_count": 42,
   "metadata": {},
   "outputs": [],
   "source": [
    "    \n",
    "def model_evaluate(model, x_test, y_test):\n",
    "    results = {}\n",
    "    \n",
    "    start = time.time()\n",
    "    \n",
    "    if (model.__class__.__name__ == 'Sequential'):\n",
    "        y_test_pred = model.predict_classes(x_test)\n",
    "    else:\n",
    "        y_test_pred = model.predict(x_test)\n",
    "        \n",
    "    end = time.time()\n",
    "    results['predict_time'] = end - start\n",
    "    results['precision_score'] = precision_score(y_test, y_test_pred, average='weighted')\n",
    "    results['f1_score'] = fbeta_score(y_test, y_test_pred, beta=0.5, average='weighted')\n",
    "    \n",
    "    print(\"precision_score Score: %f\\nf1_score: %f\" %(results['precision_score'],results['f1_score']))\n",
    "    \n",
    "    cf_matrix = confusion_matrix(y_test, y_test_pred)\n",
    "    plot_confusion_matrix(cf_matrix, \n",
    "                      normalize    = False,\n",
    "                      target_names = ['CERTIFICATED', 'DENIED'],\n",
    "                      title        = \"Confusion Matrix\")\n",
    "    \n",
    "    roc_plot(y_test, y_test_pred)\n",
    "    return results"
   ]
  },
  {
   "cell_type": "markdown",
   "metadata": {},
   "source": [
    "### 3.2.2 Random Forest Classifier"
   ]
  },
  {
   "cell_type": "markdown",
   "metadata": {},
   "source": [
    "#### 3.2.2.1 Random Forest Grid Search"
   ]
  },
  {
   "cell_type": "code",
   "execution_count": 43,
   "metadata": {},
   "outputs": [
    {
     "name": "stdout",
     "output_type": "stream",
     "text": [
      "0.6748402809054362\n",
      "{'bootstrap': True, 'criterion': 'gini', 'max_depth': 5, 'max_features': 'sqrt', 'min_samples_leaf': 3, 'n_estimators': 40}\n",
      "RandomForestClassifier(bootstrap=True, class_weight=None, criterion='gini',\n",
      "                       max_depth=5, max_features='sqrt', max_leaf_nodes=None,\n",
      "                       min_impurity_decrease=0.0, min_impurity_split=None,\n",
      "                       min_samples_leaf=3, min_samples_split=2,\n",
      "                       min_weight_fraction_leaf=0.0, n_estimators=40,\n",
      "                       n_jobs=None, oob_score=False, random_state=None,\n",
      "                       verbose=0, warm_start=False)\n"
     ]
    }
   ],
   "source": [
    "\n",
    "from sklearn.model_selection import GridSearchCV\n",
    "param_grid = {\n",
    "    'bootstrap': [True],\n",
    "    'max_depth': [3, 5],\n",
    "    'min_samples_leaf': [3, 5],\n",
    "    'n_estimators': [40, 60, 80, 100],\n",
    "    'max_features' : [\"auto\", \"log2\", \"sqrt\"],\n",
    "    'criterion': [\"gini\", \"entropy\"]\n",
    "}\n",
    "\n",
    "grid_search_rf = GridSearchCV(RandomForestClassifier(), param_grid, cv=3, n_jobs=-1)\n",
    "grid_search_rf.fit(x_train_fs, y_train)\n",
    "print(grid_search_rf.best_score_)\n",
    "print(grid_search_rf.best_params_)\n",
    "print(grid_search_rf.best_estimator_)"
   ]
  },
  {
   "cell_type": "markdown",
   "metadata": {},
   "source": [
    "#### 3.2.2.2 Apply to Random Forest model"
   ]
  },
  {
   "cell_type": "code",
   "execution_count": 44,
   "metadata": {},
   "outputs": [
    {
     "data": {
      "text/plain": [
       "RandomForestClassifier(bootstrap=True, class_weight=None, criterion='entropy',\n",
       "                       max_depth=5, max_features='sqrt', max_leaf_nodes=None,\n",
       "                       min_impurity_decrease=0.0, min_impurity_split=None,\n",
       "                       min_samples_leaf=5, min_samples_split=2,\n",
       "                       min_weight_fraction_leaf=0.0, n_estimators=80,\n",
       "                       n_jobs=None, oob_score=False, random_state=None,\n",
       "                       verbose=0, warm_start=False)"
      ]
     },
     "execution_count": 44,
     "metadata": {},
     "output_type": "execute_result"
    }
   ],
   "source": [
    "rf_grid_model = RandomForestClassifier(bootstrap=True, class_weight=None, criterion='entropy',\n",
    "                       max_depth=5, max_features='sqrt', max_leaf_nodes=None,\n",
    "                       min_impurity_decrease=0.0, min_impurity_split=None,\n",
    "                       min_samples_leaf=5, min_samples_split=2,\n",
    "                       min_weight_fraction_leaf=0.0, n_estimators=80,\n",
    "                       n_jobs=None, oob_score=False, random_state=None,\n",
    "                       verbose=0, warm_start=False)\n",
    "\n",
    "rf_grid_model.fit(x_train_fs, y_train)"
   ]
  },
  {
   "cell_type": "markdown",
   "metadata": {},
   "source": [
    "#### 3.2.2.3 Random Forest Outcome"
   ]
  },
  {
   "cell_type": "code",
   "execution_count": 45,
   "metadata": {},
   "outputs": [
    {
     "name": "stdout",
     "output_type": "stream",
     "text": [
      "precision_score Score: 0.677395\n",
      "f1_score: 0.677423\n"
     ]
    },
    {
     "data": {
      "image/png": "[encoded data removed]",
      "text/plain": [
       "<Figure size 576x432 with 2 Axes>"
      ]
     },
     "metadata": {
      "needs_background": "light"
     },
     "output_type": "display_data"
    },
    {
     "data": {
      "image/png": "[encoded data removed]",
      "text/plain": [
       "<Figure size 432x288 with 1 Axes>"
      ]
     },
     "metadata": {
      "needs_background": "light"
     },
     "output_type": "display_data"
    },
    {
     "data": {
      "text/plain": [
       "{'predict_time': 0.0885918140411377,\n",
       " 'precision_score': 0.6773953112510288,\n",
       " 'f1_score': 0.6774229594345252}"
      ]
     },
     "execution_count": 45,
     "metadata": {},
     "output_type": "execute_result"
    }
   ],
   "source": [
    "model_evaluate(rf_grid_model, x_val_fs, y_val)"
   ]
  },
  {
   "cell_type": "markdown",
   "metadata": {},
   "source": [
    "#### 3.2.2.4 Export the model"
   ]
  },
  {
   "cell_type": "code",
   "execution_count": 46,
   "metadata": {},
   "outputs": [
    {
     "name": "stdout",
     "output_type": "stream",
     "text": [
      "mkdir: model: File exists\r\n"
     ]
    },
    {
     "data": {
      "text/plain": [
       "['/Users/likunli/Documents/study/graduate/2019-Summer/6105-mac/6105-Project-Group4/model/rf_grid_model.sav']"
      ]
     },
     "execution_count": 46,
     "metadata": {},
     "output_type": "execute_result"
    }
   ],
   "source": [
    "!mkdir model\n",
    "rf_grid_model_name = f'{my_path}/model/rf_grid_model.sav'\n",
    "joblib.dump(rf_grid_model, rf_grid_model_name)"
   ]
  },
  {
   "cell_type": "markdown",
   "metadata": {},
   "source": [
    "### 3.2.3 Gradient Boosting Classifier"
   ]
  },
  {
   "cell_type": "markdown",
   "metadata": {},
   "source": [
    "#### 3.2.3.1 Gradient Boostring Grid Search"
   ]
  },
  {
   "cell_type": "code",
   "execution_count": 47,
   "metadata": {},
   "outputs": [
    {
     "name": "stdout",
     "output_type": "stream",
     "text": [
      "0.6963585714524012\n",
      "{'learning_rate': 0.15, 'min_samples_leaf': 100, 'n_estimators': 100}\n",
      "GradientBoostingClassifier(criterion='friedman_mse', init=None,\n",
      "                           learning_rate=0.15, loss='deviance', max_depth=3,\n",
      "                           max_features=None, max_leaf_nodes=None,\n",
      "                           min_impurity_decrease=0.0, min_impurity_split=None,\n",
      "                           min_samples_leaf=100, min_samples_split=2,\n",
      "                           min_weight_fraction_leaf=0.0, n_estimators=100,\n",
      "                           n_iter_no_change=None, presort='auto',\n",
      "                           random_state=None, subsample=1.0, tol=0.0001,\n",
      "                           validation_fraction=0.1, verbose=0,\n",
      "                           warm_start=False)\n"
     ]
    }
   ],
   "source": [
    "from sklearn.ensemble import GradientBoostingClassifier\n",
    "param_grid = [\n",
    "    {\n",
    "        'learning_rate':[0.15,0.01,0.005], \n",
    "        'n_estimators': [40, 60, 80, 100],\n",
    "        'min_samples_leaf': [20, 50,100,150]\n",
    "    }\n",
    "]\n",
    "\n",
    "grid_search_gb = GridSearchCV(GradientBoostingClassifier(), param_grid, cv=3, n_jobs=-1)\n",
    "grid_search_gb.fit(x_train_fs, y_train)\n",
    "print(grid_search_gb.best_score_)\n",
    "print(grid_search_gb.best_params_)\n",
    "print(grid_search_gb.best_estimator_)"
   ]
  },
  {
   "cell_type": "markdown",
   "metadata": {},
   "source": [
    "#### 3.2.3.2 Apply to Gradient Boosting model"
   ]
  },
  {
   "cell_type": "code",
   "execution_count": 48,
   "metadata": {},
   "outputs": [
    {
     "data": {
      "text/plain": [
       "GradientBoostingClassifier(criterion='friedman_mse', init=None,\n",
       "                           learning_rate=0.15, loss='deviance', max_depth=3,\n",
       "                           max_features=None, max_leaf_nodes=None,\n",
       "                           min_impurity_decrease=0.0, min_impurity_split=None,\n",
       "                           min_samples_leaf=100, min_samples_split=2,\n",
       "                           min_weight_fraction_leaf=0.0, n_estimators=100,\n",
       "                           n_iter_no_change=None, presort='auto',\n",
       "                           random_state=None, subsample=1.0, tol=0.0001,\n",
       "                           validation_fraction=0.1, verbose=0,\n",
       "                           warm_start=False)"
      ]
     },
     "execution_count": 48,
     "metadata": {},
     "output_type": "execute_result"
    }
   ],
   "source": [
    "gb_grid_model = GradientBoostingClassifier(criterion='friedman_mse', init=None,\n",
    "                           learning_rate=0.15, loss='deviance', max_depth=3,\n",
    "                           max_features=None, max_leaf_nodes=None,\n",
    "                           min_impurity_decrease=0.0, min_impurity_split=None,\n",
    "                           min_samples_leaf=100, min_samples_split=2,\n",
    "                           min_weight_fraction_leaf=0.0, n_estimators=100,\n",
    "                           n_iter_no_change=None, presort='auto',\n",
    "                           random_state=None, subsample=1.0, tol=0.0001,\n",
    "                           validation_fraction=0.1, verbose=0,\n",
    "                           warm_start=False)\n",
    "\n",
    "gb_grid_model.fit(x_train_fs, y_train)"
   ]
  },
  {
   "cell_type": "markdown",
   "metadata": {},
   "source": [
    "#### 3.2.3.3 Gradient Boostring Outcome"
   ]
  },
  {
   "cell_type": "code",
   "execution_count": 49,
   "metadata": {},
   "outputs": [
    {
     "name": "stdout",
     "output_type": "stream",
     "text": [
      "precision_score Score: 0.699537\n",
      "f1_score: 0.699519\n"
     ]
    },
    {
     "data": {
      "image/png": "[encoded data removed]",
      "text/plain": [
       "<Figure size 576x432 with 2 Axes>"
      ]
     },
     "metadata": {
      "needs_background": "light"
     },
     "output_type": "display_data"
    },
    {
     "data": {
      "image/png": "[encoded data removed]",
      "text/plain": [
       "<Figure size 432x288 with 1 Axes>"
      ]
     },
     "metadata": {
      "needs_background": "light"
     },
     "output_type": "display_data"
    },
    {
     "data": {
      "text/plain": [
       "{'predict_time': 0.02198195457458496,\n",
       " 'precision_score': 0.6995373148805847,\n",
       " 'f1_score': 0.6995191193990249}"
      ]
     },
     "execution_count": 49,
     "metadata": {},
     "output_type": "execute_result"
    }
   ],
   "source": [
    "model_evaluate(gb_grid_model, x_val_fs, y_val)"
   ]
  },
  {
   "cell_type": "markdown",
   "metadata": {},
   "source": [
    "#### 3.2.3.4 Export the model"
   ]
  },
  {
   "cell_type": "code",
   "execution_count": 50,
   "metadata": {},
   "outputs": [
    {
     "name": "stdout",
     "output_type": "stream",
     "text": [
      "mkdir: model: File exists\r\n"
     ]
    },
    {
     "data": {
      "text/plain": [
       "['/Users/likunli/Documents/study/graduate/2019-Summer/6105-mac/6105-Project-Group4/model/gb_grid_model.sav']"
      ]
     },
     "execution_count": 50,
     "metadata": {},
     "output_type": "execute_result"
    }
   ],
   "source": [
    "!mkdir model\n",
    "gb_grid_model_name = f'{my_path}/model/gb_grid_model.sav'\n",
    "joblib.dump(gb_grid_model, gb_grid_model_name)"
   ]
  },
  {
   "cell_type": "markdown",
   "metadata": {},
   "source": [
    "### 3.2.4 Apply to Deep Learning model"
   ]
  },
  {
   "cell_type": "markdown",
   "metadata": {},
   "source": [
    "#### 3.2.4.1 Apply to Deep Learning model"
   ]
  },
  {
   "cell_type": "code",
   "execution_count": 51,
   "metadata": {},
   "outputs": [
    {
     "name": "stderr",
     "output_type": "stream",
     "text": [
      "Using TensorFlow backend.\n",
      "WARNING: Logging before flag parsing goes to stderr.\n",
      "W0813 00:10:50.205471 4420629952 deprecation_wrapper.py:119] From //anaconda3/lib/python3.7/site-packages/keras/backend/tensorflow_backend.py:74: The name tf.get_default_graph is deprecated. Please use tf.compat.v1.get_default_graph instead.\n",
      "\n",
      "W0813 00:10:50.214500 4420629952 deprecation_wrapper.py:119] From //anaconda3/lib/python3.7/site-packages/keras/backend/tensorflow_backend.py:517: The name tf.placeholder is deprecated. Please use tf.compat.v1.placeholder instead.\n",
      "\n",
      "W0813 00:10:50.215921 4420629952 deprecation_wrapper.py:119] From //anaconda3/lib/python3.7/site-packages/keras/backend/tensorflow_backend.py:4138: The name tf.random_uniform is deprecated. Please use tf.random.uniform instead.\n",
      "\n",
      "W0813 00:10:50.238232 4420629952 deprecation_wrapper.py:119] From //anaconda3/lib/python3.7/site-packages/keras/optimizers.py:790: The name tf.train.Optimizer is deprecated. Please use tf.compat.v1.train.Optimizer instead.\n",
      "\n",
      "W0813 00:10:50.250221 4420629952 deprecation_wrapper.py:119] From //anaconda3/lib/python3.7/site-packages/keras/backend/tensorflow_backend.py:3376: The name tf.log is deprecated. Please use tf.math.log instead.\n",
      "\n",
      "W0813 00:10:50.253210 4420629952 deprecation.py:323] From //anaconda3/lib/python3.7/site-packages/tensorflow/python/ops/nn_impl.py:180: add_dispatch_support.<locals>.wrapper (from tensorflow.python.ops.array_ops) is deprecated and will be removed in a future version.\n",
      "Instructions for updating:\n",
      "Use tf.where in 2.0, which has the same broadcast rule as np.where\n"
     ]
    }
   ],
   "source": [
    "from keras.models import Sequential\n",
    "from keras.layers import Dense\n",
    "dnn_model = Sequential()\n",
    "dnn_model.add(Dense(14, input_dim=8, init='uniform', activation='relu'))\n",
    "dnn_model.add(Dense(8, init='uniform', activation='relu'))\n",
    "dnn_model.add(Dense(1, init='uniform', activation='sigmoid'))\n",
    "dnn_model.compile(loss='binary_crossentropy', optimizer='adam', metrics=['accuracy'])\n"
   ]
  },
  {
   "cell_type": "markdown",
   "metadata": {},
   "source": [
    "#### 3.2.4.2 Deep Learning Outcome "
   ]
  },
  {
   "cell_type": "code",
   "execution_count": 52,
   "metadata": {},
   "outputs": [
    {
     "name": "stderr",
     "output_type": "stream",
     "text": [
      "W0813 00:10:50.416205 4420629952 deprecation_wrapper.py:119] From //anaconda3/lib/python3.7/site-packages/keras/backend/tensorflow_backend.py:986: The name tf.assign_add is deprecated. Please use tf.compat.v1.assign_add instead.\n",
      "\n"
     ]
    },
    {
     "name": "stdout",
     "output_type": "stream",
     "text": [
      "Train on 119898 samples, validate on 21159 samples\n",
      "Epoch 1/60\n",
      "119898/119898 [==============================] - 1s 5us/step - loss: 0.6926 - acc: 0.5352 - val_loss: 0.6884 - val_acc: 0.5323\n",
      "Epoch 2/60\n",
      "119898/119898 [==============================] - 0s 4us/step - loss: 0.6878 - acc: 0.5381 - val_loss: 0.6864 - val_acc: 0.5574\n",
      "Epoch 3/60\n",
      "119898/119898 [==============================] - 0s 4us/step - loss: 0.6864 - acc: 0.5652 - val_loss: 0.6843 - val_acc: 0.5648\n",
      "Epoch 4/60\n",
      "119898/119898 [==============================] - 0s 4us/step - loss: 0.6859 - acc: 0.5653 - val_loss: 0.6858 - val_acc: 0.5632\n",
      "Epoch 5/60\n",
      "119898/119898 [==============================] - 0s 4us/step - loss: 0.6839 - acc: 0.5642 - val_loss: 0.6828 - val_acc: 0.5621\n",
      "Epoch 6/60\n",
      "119898/119898 [==============================] - 0s 4us/step - loss: 0.6816 - acc: 0.5663 - val_loss: 0.6795 - val_acc: 0.5681\n",
      "Epoch 7/60\n",
      "119898/119898 [==============================] - 0s 4us/step - loss: 0.6801 - acc: 0.5701 - val_loss: 0.6821 - val_acc: 0.5632\n",
      "Epoch 8/60\n",
      "119898/119898 [==============================] - 0s 4us/step - loss: 0.6799 - acc: 0.5695 - val_loss: 0.6824 - val_acc: 0.5589\n",
      "Epoch 9/60\n",
      "119898/119898 [==============================] - 0s 4us/step - loss: 0.6793 - acc: 0.5722 - val_loss: 0.6755 - val_acc: 0.5782\n",
      "Epoch 10/60\n",
      "119898/119898 [==============================] - 0s 4us/step - loss: 0.6793 - acc: 0.5718 - val_loss: 0.6806 - val_acc: 0.5751\n",
      "Epoch 11/60\n",
      "119898/119898 [==============================] - 0s 4us/step - loss: 0.6787 - acc: 0.5710 - val_loss: 0.6781 - val_acc: 0.5785\n",
      "Epoch 12/60\n",
      "119898/119898 [==============================] - 0s 4us/step - loss: 0.6785 - acc: 0.5729 - val_loss: 0.6795 - val_acc: 0.5734\n",
      "Epoch 13/60\n",
      "119898/119898 [==============================] - 0s 4us/step - loss: 0.6773 - acc: 0.5736 - val_loss: 0.6749 - val_acc: 0.5775\n",
      "Epoch 14/60\n",
      "119898/119898 [==============================] - 0s 4us/step - loss: 0.6760 - acc: 0.5756 - val_loss: 0.6729 - val_acc: 0.5838\n",
      "Epoch 15/60\n",
      "119898/119898 [==============================] - 0s 4us/step - loss: 0.6759 - acc: 0.5746 - val_loss: 0.6751 - val_acc: 0.5777\n",
      "Epoch 16/60\n",
      "119898/119898 [==============================] - 0s 4us/step - loss: 0.6751 - acc: 0.5746 - val_loss: 0.6765 - val_acc: 0.5746\n",
      "Epoch 17/60\n",
      "119898/119898 [==============================] - 0s 4us/step - loss: 0.6752 - acc: 0.5746 - val_loss: 0.6743 - val_acc: 0.5818\n",
      "Epoch 18/60\n",
      "119898/119898 [==============================] - 0s 4us/step - loss: 0.6751 - acc: 0.5734 - val_loss: 0.6721 - val_acc: 0.5816\n",
      "Epoch 19/60\n",
      "119898/119898 [==============================] - 0s 4us/step - loss: 0.6742 - acc: 0.5755 - val_loss: 0.6800 - val_acc: 0.5764\n",
      "Epoch 20/60\n",
      "119898/119898 [==============================] - 0s 4us/step - loss: 0.6742 - acc: 0.5739 - val_loss: 0.6710 - val_acc: 0.5836\n",
      "Epoch 21/60\n",
      "119898/119898 [==============================] - 0s 4us/step - loss: 0.6721 - acc: 0.5792 - val_loss: 0.6668 - val_acc: 0.5893\n",
      "Epoch 22/60\n",
      "119898/119898 [==============================] - 0s 4us/step - loss: 0.6720 - acc: 0.5770 - val_loss: 0.6767 - val_acc: 0.5623\n",
      "Epoch 23/60\n",
      "119898/119898 [==============================] - 0s 4us/step - loss: 0.6697 - acc: 0.5790 - val_loss: 0.6684 - val_acc: 0.5888\n",
      "Epoch 24/60\n",
      "119898/119898 [==============================] - 0s 4us/step - loss: 0.6689 - acc: 0.5796 - val_loss: 0.6849 - val_acc: 0.5174\n",
      "Epoch 25/60\n",
      "119898/119898 [==============================] - 0s 4us/step - loss: 0.6618 - acc: 0.6003 - val_loss: 0.6720 - val_acc: 0.5785\n",
      "Epoch 26/60\n",
      "119898/119898 [==============================] - 0s 4us/step - loss: 0.6511 - acc: 0.6195 - val_loss: 0.6543 - val_acc: 0.6153\n",
      "Epoch 27/60\n",
      "119898/119898 [==============================] - 0s 4us/step - loss: 0.6476 - acc: 0.6235 - val_loss: 0.6335 - val_acc: 0.6449\n",
      "Epoch 28/60\n",
      "119898/119898 [==============================] - 0s 4us/step - loss: 0.6418 - acc: 0.6322 - val_loss: 0.6296 - val_acc: 0.6463\n",
      "Epoch 29/60\n",
      "119898/119898 [==============================] - 0s 4us/step - loss: 0.6411 - acc: 0.6316 - val_loss: 0.6309 - val_acc: 0.6527\n",
      "Epoch 30/60\n",
      "119898/119898 [==============================] - 0s 4us/step - loss: 0.6381 - acc: 0.6360 - val_loss: 0.6385 - val_acc: 0.6389\n",
      "Epoch 31/60\n",
      "119898/119898 [==============================] - 0s 4us/step - loss: 0.6388 - acc: 0.6353 - val_loss: 0.6307 - val_acc: 0.6486\n",
      "Epoch 32/60\n",
      "119898/119898 [==============================] - 0s 4us/step - loss: 0.6354 - acc: 0.6402 - val_loss: 0.6443 - val_acc: 0.6301\n",
      "Epoch 33/60\n",
      "119898/119898 [==============================] - 0s 4us/step - loss: 0.6385 - acc: 0.6352 - val_loss: 0.6261 - val_acc: 0.6521\n",
      "Epoch 34/60\n",
      "119898/119898 [==============================] - 0s 4us/step - loss: 0.6373 - acc: 0.6362 - val_loss: 0.6264 - val_acc: 0.6487\n",
      "Epoch 35/60\n",
      "119898/119898 [==============================] - 0s 4us/step - loss: 0.6367 - acc: 0.6379 - val_loss: 0.6385 - val_acc: 0.6379\n",
      "Epoch 36/60\n",
      "119898/119898 [==============================] - 0s 4us/step - loss: 0.6340 - acc: 0.6410 - val_loss: 0.6270 - val_acc: 0.6500\n",
      "Epoch 37/60\n",
      "119898/119898 [==============================] - 0s 4us/step - loss: 0.6347 - acc: 0.6395 - val_loss: 0.6265 - val_acc: 0.6532\n",
      "Epoch 38/60\n",
      "119898/119898 [==============================] - 0s 4us/step - loss: 0.6364 - acc: 0.6385 - val_loss: 0.6371 - val_acc: 0.6377\n",
      "Epoch 39/60\n",
      "119898/119898 [==============================] - 0s 4us/step - loss: 0.6345 - acc: 0.6404 - val_loss: 0.6278 - val_acc: 0.6519\n",
      "Epoch 40/60\n",
      "119898/119898 [==============================] - 0s 4us/step - loss: 0.6329 - acc: 0.6434 - val_loss: 0.6260 - val_acc: 0.6487\n",
      "Epoch 41/60\n",
      "119898/119898 [==============================] - 0s 4us/step - loss: 0.6339 - acc: 0.6410 - val_loss: 0.6218 - val_acc: 0.6575\n",
      "Epoch 42/60\n",
      "119898/119898 [==============================] - 0s 4us/step - loss: 0.6352 - acc: 0.6394 - val_loss: 0.6326 - val_acc: 0.6429\n",
      "Epoch 43/60\n",
      "119898/119898 [==============================] - 0s 4us/step - loss: 0.6319 - acc: 0.6437 - val_loss: 0.6246 - val_acc: 0.6529\n",
      "Epoch 44/60\n",
      "119898/119898 [==============================] - 0s 4us/step - loss: 0.6349 - acc: 0.6399 - val_loss: 0.6217 - val_acc: 0.6586\n",
      "Epoch 45/60\n",
      "119898/119898 [==============================] - 0s 4us/step - loss: 0.6318 - acc: 0.6441 - val_loss: 0.6224 - val_acc: 0.6567\n",
      "Epoch 46/60\n",
      "119898/119898 [==============================] - 0s 4us/step - loss: 0.6356 - acc: 0.6390 - val_loss: 0.6263 - val_acc: 0.6511\n",
      "Epoch 47/60\n",
      "119898/119898 [==============================] - 0s 4us/step - loss: 0.6320 - acc: 0.6436 - val_loss: 0.6357 - val_acc: 0.6407\n",
      "Epoch 48/60\n",
      "119898/119898 [==============================] - 0s 4us/step - loss: 0.6318 - acc: 0.6424 - val_loss: 0.6232 - val_acc: 0.6519\n",
      "Epoch 49/60\n",
      "119898/119898 [==============================] - 0s 4us/step - loss: 0.6365 - acc: 0.6394 - val_loss: 0.6265 - val_acc: 0.6497\n",
      "Epoch 50/60\n",
      "119898/119898 [==============================] - 0s 4us/step - loss: 0.6320 - acc: 0.6441 - val_loss: 0.6341 - val_acc: 0.6426\n",
      "Epoch 51/60\n",
      "119898/119898 [==============================] - 0s 4us/step - loss: 0.6313 - acc: 0.6448 - val_loss: 0.6259 - val_acc: 0.6540\n",
      "Epoch 52/60\n",
      "119898/119898 [==============================] - 0s 4us/step - loss: 0.6319 - acc: 0.6434 - val_loss: 0.6257 - val_acc: 0.6511\n",
      "Epoch 53/60\n",
      "119898/119898 [==============================] - 0s 4us/step - loss: 0.6322 - acc: 0.6430 - val_loss: 0.6269 - val_acc: 0.6488\n",
      "Epoch 54/60\n",
      "119898/119898 [==============================] - 0s 4us/step - loss: 0.6331 - acc: 0.6422 - val_loss: 0.6244 - val_acc: 0.6544\n",
      "Epoch 55/60\n",
      "119898/119898 [==============================] - 0s 4us/step - loss: 0.6309 - acc: 0.6448 - val_loss: 0.6251 - val_acc: 0.6550\n",
      "Epoch 56/60\n",
      "119898/119898 [==============================] - 0s 4us/step - loss: 0.6315 - acc: 0.6433 - val_loss: 0.6232 - val_acc: 0.6577\n",
      "Epoch 57/60\n",
      "119898/119898 [==============================] - 0s 4us/step - loss: 0.6328 - acc: 0.6425 - val_loss: 0.6405 - val_acc: 0.6426\n",
      "Epoch 58/60\n",
      "119898/119898 [==============================] - 0s 4us/step - loss: 0.6329 - acc: 0.6429 - val_loss: 0.6483 - val_acc: 0.6307\n",
      "Epoch 59/60\n"
     ]
    },
    {
     "name": "stdout",
     "output_type": "stream",
     "text": [
      "119898/119898 [==============================] - 0s 4us/step - loss: 0.6310 - acc: 0.6433 - val_loss: 0.6350 - val_acc: 0.6412\n",
      "Epoch 60/60\n",
      "119898/119898 [==============================] - 0s 4us/step - loss: 0.6315 - acc: 0.6439 - val_loss: 0.6390 - val_acc: 0.6342\n",
      "21159/21159 [==============================] - 0s 6us/step\n",
      "Accuracy: 63.42%\n"
     ]
    }
   ],
   "source": [
    "# model_evaluate(dnn_model, x_val_fs, y_val)\n",
    "\n",
    "history = dnn_model.fit(x_train_fs, y_train, validation_data=(x_val_fs, y_val), nb_epoch=60, batch_size=200)\n",
    "train_scores = dnn_model.evaluate(x_val_fs, y_val)\n",
    "print (\"Accuracy: %.2f%%\" %(train_scores[1]*100))   \n"
   ]
  },
  {
   "cell_type": "markdown",
   "metadata": {},
   "source": [
    "#### 3.2.4.3 Export the model"
   ]
  },
  {
   "cell_type": "code",
   "execution_count": 53,
   "metadata": {},
   "outputs": [
    {
     "name": "stdout",
     "output_type": "stream",
     "text": [
      "mkdir: model: File exists\r\n"
     ]
    },
    {
     "data": {
      "text/plain": [
       "['/Users/likunli/Documents/study/graduate/2019-Summer/6105-mac/6105-Project-Group4/model/dnn_model.sav']"
      ]
     },
     "execution_count": 53,
     "metadata": {},
     "output_type": "execute_result"
    }
   ],
   "source": [
    "!mkdir model\n",
    "dnn_model_name = f'{my_path}/model/dnn_model.sav'\n",
    "joblib.dump(dnn_model, dnn_model_name)"
   ]
  },
  {
   "cell_type": "markdown",
   "metadata": {},
   "source": [
    "#### 3.2.4.4 Epoch vs Training and Validation Accuracy"
   ]
  },
  {
   "cell_type": "code",
   "execution_count": 54,
   "metadata": {},
   "outputs": [
    {
     "data": {
      "text/plain": [
       "dict_keys(['val_loss', 'val_acc', 'loss', 'acc'])"
      ]
     },
     "execution_count": 54,
     "metadata": {},
     "output_type": "execute_result"
    }
   ],
   "source": [
    "history_dict = history.history\n",
    "history_dict.keys()"
   ]
  },
  {
   "cell_type": "code",
   "execution_count": 55,
   "metadata": {},
   "outputs": [
    {
     "data": {
      "image/png": "[encoded data removed]",
      "text/plain": [
       "<Figure size 432x288 with 1 Axes>"
      ]
     },
     "metadata": {
      "needs_background": "light"
     },
     "output_type": "display_data"
    }
   ],
   "source": [
    "acc_values = history_dict['acc']\n",
    "val_acc_values = history_dict['val_acc']\n",
    "epochs = range(1, len(acc_values) + 1)\n",
    "\n",
    "\n",
    "\n",
    "plt.plot(epochs, acc_values, 'b-',label='Training Accuracy')\n",
    "plt.plot(epochs, val_acc_values, 'b-',label='Validation Accuracy', color='red')\n",
    "plt.title(\"Training and validation Accuracy\")\n",
    "plt.xlabel('Epochs')\n",
    "plt.ylabel('Accuracy')\n",
    "\n",
    "plt.legend()\n",
    "plt.show()"
   ]
  },
  {
   "cell_type": "code",
   "execution_count": 56,
   "metadata": {},
   "outputs": [
    {
     "data": {
      "image/png": "[encoded data removed]",
      "text/plain": [
       "<Figure size 432x288 with 1 Axes>"
      ]
     },
     "metadata": {
      "needs_background": "light"
     },
     "output_type": "display_data"
    }
   ],
   "source": [
    "loss_values = history_dict['loss']\n",
    "val_loss_values = history_dict['val_loss']\n",
    "epochs = range(1, len(acc_values) + 1)\n",
    "\n",
    "\n",
    "\n",
    "plt.plot(epochs, loss_values, 'b-',label='Training Loss')\n",
    "plt.plot(epochs, val_loss_values, 'b-',label='Validation Loss', color='red')\n",
    "plt.title(\"Training and validation Loss\")\n",
    "plt.xlabel('Epochs')\n",
    "plt.ylabel('Loss')\n",
    "\n",
    "plt.legend()\n",
    "plt.show()"
   ]
  },
  {
   "cell_type": "markdown",
   "metadata": {},
   "source": [
    "# 4. Test"
   ]
  },
  {
   "cell_type": "markdown",
   "metadata": {},
   "source": [
    "## 4.1 Model test"
   ]
  },
  {
   "cell_type": "markdown",
   "metadata": {},
   "source": [
    "### 4.1.1 Import model"
   ]
  },
  {
   "cell_type": "code",
   "execution_count": 57,
   "metadata": {},
   "outputs": [
    {
     "name": "stdout",
     "output_type": "stream",
     "text": [
      "dnn_model.sav     gb_grid_model.sav rf_grid_model.sav\r\n"
     ]
    }
   ],
   "source": [
    "!ls model\n",
    "rf_grid_model_loaded = joblib.load(rf_grid_model_name)\n",
    "gb_grid_model_loaded = joblib.load(gb_grid_model_name)\n",
    "dnn_model_loaded = joblib.load(dnn_model_name)\n",
    "\n",
    "x_test_fs = x_test[list(feature_name)]"
   ]
  },
  {
   "cell_type": "code",
   "execution_count": 58,
   "metadata": {},
   "outputs": [
    {
     "data": {
      "text/html": [
       "<div>\n",
       "<style scoped>\n",
       "    .dataframe tbody tr th:only-of-type {\n",
       "        vertical-align: middle;\n",
       "    }\n",
       "\n",
       "    .dataframe tbody tr th {\n",
       "        vertical-align: top;\n",
       "    }\n",
       "\n",
       "    .dataframe thead th {\n",
       "        text-align: right;\n",
       "    }\n",
       "</style>\n",
       "<table border=\"1\" class=\"dataframe\">\n",
       "  <thead>\n",
       "    <tr style=\"text-align: right;\">\n",
       "      <th></th>\n",
       "      <th>EMPLOYER_NAME</th>\n",
       "      <th>SOC_NAME</th>\n",
       "      <th>JOB_TITLE</th>\n",
       "      <th>WORKSITE</th>\n",
       "      <th>PREVAILING_WAGE</th>\n",
       "      <th>YEAR</th>\n",
       "      <th>lon</th>\n",
       "      <th>lat</th>\n",
       "    </tr>\n",
       "  </thead>\n",
       "  <tbody>\n",
       "    <tr>\n",
       "      <th>22252</th>\n",
       "      <td>14470</td>\n",
       "      <td>799</td>\n",
       "      <td>9110</td>\n",
       "      <td>3579</td>\n",
       "      <td>-0.438926</td>\n",
       "      <td>-1.298782</td>\n",
       "      <td>0.207596</td>\n",
       "      <td>0.261711</td>\n",
       "    </tr>\n",
       "    <tr>\n",
       "      <th>123966</th>\n",
       "      <td>21403</td>\n",
       "      <td>937</td>\n",
       "      <td>31888</td>\n",
       "      <td>1979</td>\n",
       "      <td>1.353579</td>\n",
       "      <td>0.955799</td>\n",
       "      <td>0.723810</td>\n",
       "      <td>0.550539</td>\n",
       "    </tr>\n",
       "    <tr>\n",
       "      <th>71983</th>\n",
       "      <td>26264</td>\n",
       "      <td>332</td>\n",
       "      <td>7189</td>\n",
       "      <td>1266</td>\n",
       "      <td>-0.266755</td>\n",
       "      <td>-0.171491</td>\n",
       "      <td>0.142916</td>\n",
       "      <td>0.827901</td>\n",
       "    </tr>\n",
       "    <tr>\n",
       "      <th>110891</th>\n",
       "      <td>33745</td>\n",
       "      <td>313</td>\n",
       "      <td>7511</td>\n",
       "      <td>2879</td>\n",
       "      <td>0.247085</td>\n",
       "      <td>0.392154</td>\n",
       "      <td>0.799709</td>\n",
       "      <td>0.804559</td>\n",
       "    </tr>\n",
       "    <tr>\n",
       "      <th>7608</th>\n",
       "      <td>30608</td>\n",
       "      <td>886</td>\n",
       "      <td>19681</td>\n",
       "      <td>1301</td>\n",
       "      <td>-1.390458</td>\n",
       "      <td>-1.298782</td>\n",
       "      <td>-1.189983</td>\n",
       "      <td>-0.775465</td>\n",
       "    </tr>\n",
       "  </tbody>\n",
       "</table>\n",
       "</div>"
      ],
      "text/plain": [
       "        EMPLOYER_NAME  SOC_NAME  JOB_TITLE  WORKSITE  PREVAILING_WAGE  \\\n",
       "22252           14470       799       9110      3579        -0.438926   \n",
       "123966          21403       937      31888      1979         1.353579   \n",
       "71983           26264       332       7189      1266        -0.266755   \n",
       "110891          33745       313       7511      2879         0.247085   \n",
       "7608            30608       886      19681      1301        -1.390458   \n",
       "\n",
       "            YEAR       lon       lat  \n",
       "22252  -1.298782  0.207596  0.261711  \n",
       "123966  0.955799  0.723810  0.550539  \n",
       "71983  -0.171491  0.142916  0.827901  \n",
       "110891  0.392154  0.799709  0.804559  \n",
       "7608   -1.298782 -1.189983 -0.775465  "
      ]
     },
     "execution_count": 58,
     "metadata": {},
     "output_type": "execute_result"
    }
   ],
   "source": [
    "x_test_fs.head(5)"
   ]
  },
  {
   "cell_type": "markdown",
   "metadata": {},
   "source": [
    "### 4.1.2 Random Forest Classifier"
   ]
  },
  {
   "cell_type": "code",
   "execution_count": 59,
   "metadata": {},
   "outputs": [
    {
     "name": "stdout",
     "output_type": "stream",
     "text": [
      "precision_score Score: 0.677315\n",
      "f1_score: 0.677320\n"
     ]
    },
    {
     "data": {
      "image/png": "[encoded data removed]",
      "text/plain": [
       "<Figure size 576x432 with 2 Axes>"
      ]
     },
     "metadata": {
      "needs_background": "light"
     },
     "output_type": "display_data"
    },
    {
     "data": {
      "image/png": "[encoded data removed]",
      "text/plain": [
       "<Figure size 432x288 with 1 Axes>"
      ]
     },
     "metadata": {
      "needs_background": "light"
     },
     "output_type": "display_data"
    }
   ],
   "source": [
    "results = {}\n",
    "model_name = rf_grid_model_loaded.__class__.__name__\n",
    "results[model_name] = model_evaluate(rf_grid_model_loaded, x_test_fs, y_test)"
   ]
  },
  {
   "cell_type": "markdown",
   "metadata": {},
   "source": [
    "### 4.1.3 Gradient Boosting Classifier"
   ]
  },
  {
   "cell_type": "code",
   "execution_count": 60,
   "metadata": {},
   "outputs": [
    {
     "name": "stdout",
     "output_type": "stream",
     "text": [
      "precision_score Score: 0.700560\n",
      "f1_score: 0.700588\n"
     ]
    },
    {
     "data": {
      "image/png": "[encoded data removed]",
      "text/plain": [
       "<Figure size 576x432 with 2 Axes>"
      ]
     },
     "metadata": {
      "needs_background": "light"
     },
     "output_type": "display_data"
    },
    {
     "data": {
      "image/png": "[encoded data removed]",
      "text/plain": [
       "<Figure size 432x288 with 1 Axes>"
      ]
     },
     "metadata": {
      "needs_background": "light"
     },
     "output_type": "display_data"
    }
   ],
   "source": [
    "model_name = gb_grid_model_loaded.__class__.__name__\n",
    "results[model_name] = model_evaluate(gb_grid_model_loaded, x_test_fs, y_test)"
   ]
  },
  {
   "cell_type": "markdown",
   "metadata": {},
   "source": [
    "### 4.1.4 DNN"
   ]
  },
  {
   "cell_type": "code",
   "execution_count": 61,
   "metadata": {},
   "outputs": [
    {
     "name": "stdout",
     "output_type": "stream",
     "text": [
      "precision_score Score: 0.662301\n",
      "f1_score: 0.639042\n"
     ]
    },
    {
     "data": {
      "image/png": "[encoded data removed]",
      "text/plain": [
       "<Figure size 576x432 with 2 Axes>"
      ]
     },
     "metadata": {
      "needs_background": "light"
     },
     "output_type": "display_data"
    },
    {
     "data": {
      "image/png": "[encoded data removed]",
      "text/plain": [
       "<Figure size 432x288 with 1 Axes>"
      ]
     },
     "metadata": {
      "needs_background": "light"
     },
     "output_type": "display_data"
    }
   ],
   "source": [
    "model_name = dnn_model_loaded.__class__.__name__\n",
    "results[model_name] = model_evaluate(dnn_model_loaded, x_test_fs, y_test)"
   ]
  },
  {
   "cell_type": "markdown",
   "metadata": {},
   "source": [
    "## 4.2 Model Compare"
   ]
  },
  {
   "cell_type": "markdown",
   "metadata": {},
   "source": [
    "### 4.2.1 Predicting times"
   ]
  },
  {
   "cell_type": "code",
   "execution_count": 62,
   "metadata": {},
   "outputs": [
    {
     "data": {
      "text/plain": [
       "<matplotlib.legend.Legend at 0x7f92f44ffeb8>"
      ]
     },
     "execution_count": 62,
     "metadata": {},
     "output_type": "execute_result"
    },
    {
     "data": {
      "image/png": "[encoded data removed]",
      "text/plain": [
       "<Figure size 432x288 with 1 Axes>"
      ]
     },
     "metadata": {
      "needs_background": "light"
     },
     "output_type": "display_data"
    }
   ],
   "source": [
    "ind = 1\n",
    "width = 0.4       \n",
    "plt.xticks(range(0,1)) # Show no bar-labels\n",
    "plt.xlabel('Models')\n",
    "plt.ylabel('Time (in seconds)')\n",
    "\n",
    "for key, data_dict in results.items():\n",
    "    x = data_dict.keys() \n",
    "    y = list(data_dict.values()) #list used for Python3\n",
    "    if key == 'RandomForestClassifier':\n",
    "        plt.bar(ind, y[0], color='#A00000', align='center', width = 0.3, label = 'RandomForest') # Prediction \n",
    "    elif key == 'GradientBoostingClassifier': \n",
    "        plt.bar(ind+width*2, y[0], color='#00A0A0', align='center', width = 0.3,  label = \"GradientBoosting\") # Prediction \n",
    "    elif key == 'Sequential': \n",
    "        plt.bar(ind+width*4, y[0], color='#00A000', align='center', width = 0.3, label = \"DNN\") # Prediction \n",
    "\n",
    "#print(results.values())\n",
    "plt.suptitle(\"Prediction Times\", fontsize = 16, x = 0.53, y = .95)\n",
    "plt.legend(loc = 'upper left')"
   ]
  },
  {
   "cell_type": "markdown",
   "metadata": {},
   "source": [
    "### 4.2.2 Precision"
   ]
  },
  {
   "cell_type": "code",
   "execution_count": 63,
   "metadata": {},
   "outputs": [
    {
     "data": {
      "text/plain": [
       "<matplotlib.legend.Legend at 0x7f92f451a828>"
      ]
     },
     "execution_count": 63,
     "metadata": {},
     "output_type": "execute_result"
    },
    {
     "data": {
      "image/png": "[encoded data removed]",
      "text/plain": [
       "<Figure size 432x288 with 1 Axes>"
      ]
     },
     "metadata": {
      "needs_background": "light"
     },
     "output_type": "display_data"
    }
   ],
   "source": [
    "ind = 1\n",
    "width = 0.4       \n",
    "plt.xticks(range(0,1)) # Show no bar-labels\n",
    "plt.xlabel('Models')\n",
    "plt.ylabel('Scores')\n",
    "\n",
    "for key, data_dict in results.items():\n",
    "    if key == 'RandomForestClassifier':\n",
    "        x = data_dict.keys() \n",
    "        y = list(data_dict.values()) #list used for Python3\n",
    "        plt.bar(ind, y[1], color='#A00000', align='center', width = 0.2, label = 'RandomForest') # y[1] Precision - y[2] F-Score\n",
    "    elif key == 'GradientBoostingClassifier': \n",
    "        x = data_dict.keys() \n",
    "        y = list(data_dict.values()) \n",
    "        plt.bar(ind+width, y[1], color='#00A0A0', align='center', width = 0.2, label = 'GradientBoosting')  \n",
    "    elif key == 'Sequential': \n",
    "        x = data_dict.keys() \n",
    "        y = list(data_dict.values()) \n",
    "        plt.bar(ind+width*2, y[1], color='#00A000', align='center', width = 0.2, label = 'DNN')  \n",
    "\n",
    "# plt.axhline(y = precision, linewidth = 1, color = 'k', linestyle = 'dashed')\n",
    "plt.suptitle(\"Precision scores\", fontsize = 16, x = 0.53, y = .95)\n",
    "plt.legend(loc = 'lower left')"
   ]
  },
  {
   "cell_type": "markdown",
   "metadata": {},
   "source": [
    "### 4.2.3 F-1 score"
   ]
  },
  {
   "cell_type": "code",
   "execution_count": 64,
   "metadata": {},
   "outputs": [
    {
     "data": {
      "text/plain": [
       "<matplotlib.legend.Legend at 0x7f92ea7e8358>"
      ]
     },
     "execution_count": 64,
     "metadata": {},
     "output_type": "execute_result"
    },
    {
     "data": {
      "image/png": "[encoded data removed]",
      "text/plain": [
       "<Figure size 432x288 with 1 Axes>"
      ]
     },
     "metadata": {
      "needs_background": "light"
     },
     "output_type": "display_data"
    }
   ],
   "source": [
    "ind = 1\n",
    "width = 0.4       \n",
    "plt.xticks(range(0,1)) # Show no bar-labels\n",
    "plt.xlabel('Models')\n",
    "plt.ylabel('Scores')\n",
    "\n",
    "for key, data_dict in results.items():\n",
    "    if key == 'RandomForestClassifier':\n",
    "        x = data_dict.keys() \n",
    "        y = list(data_dict.values()) #list used for Python3\n",
    "        plt.bar(ind, y[2], color='#A00000', align='center', width = 0.2, label = 'RandomForest') # y[1] Precision - y[2] F-Score\n",
    "    elif key == 'GradientBoostingClassifier': \n",
    "        x = data_dict.keys() \n",
    "        y = list(data_dict.values())\n",
    "        plt.bar(ind+width, y[2], color='#00A0A0', align='center', width = 0.2, label = 'GradientBoosting')  \n",
    "    elif key == 'Sequential': \n",
    "        x = data_dict.keys() \n",
    "        y = list(data_dict.values())\n",
    "        plt.bar(ind+width*2, y[2], color='#00A000', align='center', width = 0.2, label = 'DNN') \n",
    "\n",
    "# plt.axhline(y = fscore, linewidth = 1, color = 'k', linestyle = 'dashed')\n",
    "plt.suptitle(\"F1-scores\", fontsize = 16, x = 0.53, y = .95)\n",
    "plt.legend(loc = 'lower left')"
   ]
  },
  {
   "cell_type": "code",
   "execution_count": null,
   "metadata": {},
   "outputs": [],
   "source": []
  }
 ],
 "metadata": {
  "kernelspec": {
   "display_name": "Python 3",
   "language": "python",
   "name": "python3"
  },
  "language_info": {
   "codemirror_mode": {
    "name": "ipython",
    "version": 3
   },
   "file_extension": ".py",
   "mimetype": "text/x-python",
   "name": "python",
   "nbconvert_exporter": "python",
   "pygments_lexer": "ipython3",
   "version": "3.7.3"
  }
 },
 "nbformat": 4,
 "nbformat_minor": 2
}
